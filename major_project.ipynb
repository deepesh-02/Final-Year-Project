{
  "nbformat": 4,
  "nbformat_minor": 0,
  "metadata": {
    "colab": {
      "provenance": [],
      "gpuType": "T4"
    },
    "kernelspec": {
      "name": "python3",
      "display_name": "Python 3"
    },
    "language_info": {
      "name": "python"
    },
    "accelerator": "GPU"
  },
  "cells": [
    {
      "cell_type": "markdown",
      "source": [
        "# Importing the dependencies"
      ],
      "metadata": {
        "id": "cdNU93M7r2cj"
      }
    },
    {
      "cell_type": "code",
      "source": [
        "from google.colab import drive\n",
        "drive.mount('/content/drive')"
      ],
      "metadata": {
        "id": "Jtjf5Q9qaO9g",
        "colab": {
          "base_uri": "https://localhost:8080/"
        },
        "outputId": "e34e970b-9b05-4e81-f9a8-c768d4c0f2dc"
      },
      "execution_count": 1,
      "outputs": [
        {
          "output_type": "stream",
          "name": "stdout",
          "text": [
            "Mounted at /content/drive\n"
          ]
        }
      ]
    },
    {
      "cell_type": "code",
      "execution_count": 2,
      "metadata": {
        "colab": {
          "base_uri": "https://localhost:8080/"
        },
        "id": "91E9B2OTzEMq",
        "outputId": "e7f6941b-b999-4bda-9624-d60ad079cdc8"
      },
      "outputs": [
        {
          "output_type": "stream",
          "name": "stdout",
          "text": [
            "CPU times: user 471 ms, sys: 73.9 ms, total: 544 ms\n",
            "Wall time: 1min 24s\n"
          ]
        }
      ],
      "source": [
        "%%time\n",
        "!unzip -q drive/MyDrive/dataset/dataset_zip.zip -d ./extracted_audios"
      ]
    },
    {
      "cell_type": "code",
      "execution_count": 3,
      "metadata": {
        "id": "ADqKqnHLzKHy"
      },
      "outputs": [],
      "source": [
        "# Importing the dependencies\n",
        "import numpy as np\n",
        "import pandas as pd\n",
        "import librosa\n",
        "from tqdm import tqdm"
      ]
    },
    {
      "cell_type": "code",
      "execution_count": 4,
      "metadata": {
        "id": "iuZYqdrKzdFd"
      },
      "outputs": [],
      "source": [
        "# Importing the mappings csv file\n",
        "mappings = 'drive/MyDrive/dataset/filename_to_classid_mapping.csv'\n",
        "dataset = 'extracted_audios'"
      ]
    },
    {
      "cell_type": "code",
      "execution_count": 5,
      "metadata": {
        "id": "MC1k8BNy1avc"
      },
      "outputs": [],
      "source": [
        "labels = pd.read_csv(mappings, names = ['filenames', 'class_id'])"
      ]
    },
    {
      "cell_type": "code",
      "execution_count": 6,
      "metadata": {
        "colab": {
          "base_uri": "https://localhost:8080/",
          "height": 423
        },
        "id": "XgFb052C1icb",
        "outputId": "26ed9ab9-8a74-418b-c32e-be2232e2e088"
      },
      "outputs": [
        {
          "output_type": "execute_result",
          "data": {
            "text/plain": [
              "     filenames  class_id\n",
              "0     0001.wav         1\n",
              "1     0002.wav         1\n",
              "2     0003.wav         1\n",
              "3     0004.wav         1\n",
              "4     0005.wav         1\n",
              "...        ...       ...\n",
              "1607  1608.wav         5\n",
              "1608  1609.wav         5\n",
              "1609  1610.wav         5\n",
              "1610  1611.wav         5\n",
              "1611  1612.wav         5\n",
              "\n",
              "[1612 rows x 2 columns]"
            ],
            "text/html": [
              "\n",
              "  <div id=\"df-9fe8b21e-3db8-498a-ab2a-3d167b1a6287\" class=\"colab-df-container\">\n",
              "    <div>\n",
              "<style scoped>\n",
              "    .dataframe tbody tr th:only-of-type {\n",
              "        vertical-align: middle;\n",
              "    }\n",
              "\n",
              "    .dataframe tbody tr th {\n",
              "        vertical-align: top;\n",
              "    }\n",
              "\n",
              "    .dataframe thead th {\n",
              "        text-align: right;\n",
              "    }\n",
              "</style>\n",
              "<table border=\"1\" class=\"dataframe\">\n",
              "  <thead>\n",
              "    <tr style=\"text-align: right;\">\n",
              "      <th></th>\n",
              "      <th>filenames</th>\n",
              "      <th>class_id</th>\n",
              "    </tr>\n",
              "  </thead>\n",
              "  <tbody>\n",
              "    <tr>\n",
              "      <th>0</th>\n",
              "      <td>0001.wav</td>\n",
              "      <td>1</td>\n",
              "    </tr>\n",
              "    <tr>\n",
              "      <th>1</th>\n",
              "      <td>0002.wav</td>\n",
              "      <td>1</td>\n",
              "    </tr>\n",
              "    <tr>\n",
              "      <th>2</th>\n",
              "      <td>0003.wav</td>\n",
              "      <td>1</td>\n",
              "    </tr>\n",
              "    <tr>\n",
              "      <th>3</th>\n",
              "      <td>0004.wav</td>\n",
              "      <td>1</td>\n",
              "    </tr>\n",
              "    <tr>\n",
              "      <th>4</th>\n",
              "      <td>0005.wav</td>\n",
              "      <td>1</td>\n",
              "    </tr>\n",
              "    <tr>\n",
              "      <th>...</th>\n",
              "      <td>...</td>\n",
              "      <td>...</td>\n",
              "    </tr>\n",
              "    <tr>\n",
              "      <th>1607</th>\n",
              "      <td>1608.wav</td>\n",
              "      <td>5</td>\n",
              "    </tr>\n",
              "    <tr>\n",
              "      <th>1608</th>\n",
              "      <td>1609.wav</td>\n",
              "      <td>5</td>\n",
              "    </tr>\n",
              "    <tr>\n",
              "      <th>1609</th>\n",
              "      <td>1610.wav</td>\n",
              "      <td>5</td>\n",
              "    </tr>\n",
              "    <tr>\n",
              "      <th>1610</th>\n",
              "      <td>1611.wav</td>\n",
              "      <td>5</td>\n",
              "    </tr>\n",
              "    <tr>\n",
              "      <th>1611</th>\n",
              "      <td>1612.wav</td>\n",
              "      <td>5</td>\n",
              "    </tr>\n",
              "  </tbody>\n",
              "</table>\n",
              "<p>1612 rows × 2 columns</p>\n",
              "</div>\n",
              "    <div class=\"colab-df-buttons\">\n",
              "\n",
              "  <div class=\"colab-df-container\">\n",
              "    <button class=\"colab-df-convert\" onclick=\"convertToInteractive('df-9fe8b21e-3db8-498a-ab2a-3d167b1a6287')\"\n",
              "            title=\"Convert this dataframe to an interactive table.\"\n",
              "            style=\"display:none;\">\n",
              "\n",
              "  <svg xmlns=\"http://www.w3.org/2000/svg\" height=\"24px\" viewBox=\"0 -960 960 960\">\n",
              "    <path d=\"M120-120v-720h720v720H120Zm60-500h600v-160H180v160Zm220 220h160v-160H400v160Zm0 220h160v-160H400v160ZM180-400h160v-160H180v160Zm440 0h160v-160H620v160ZM180-180h160v-160H180v160Zm440 0h160v-160H620v160Z\"/>\n",
              "  </svg>\n",
              "    </button>\n",
              "\n",
              "  <style>\n",
              "    .colab-df-container {\n",
              "      display:flex;\n",
              "      gap: 12px;\n",
              "    }\n",
              "\n",
              "    .colab-df-convert {\n",
              "      background-color: #E8F0FE;\n",
              "      border: none;\n",
              "      border-radius: 50%;\n",
              "      cursor: pointer;\n",
              "      display: none;\n",
              "      fill: #1967D2;\n",
              "      height: 32px;\n",
              "      padding: 0 0 0 0;\n",
              "      width: 32px;\n",
              "    }\n",
              "\n",
              "    .colab-df-convert:hover {\n",
              "      background-color: #E2EBFA;\n",
              "      box-shadow: 0px 1px 2px rgba(60, 64, 67, 0.3), 0px 1px 3px 1px rgba(60, 64, 67, 0.15);\n",
              "      fill: #174EA6;\n",
              "    }\n",
              "\n",
              "    .colab-df-buttons div {\n",
              "      margin-bottom: 4px;\n",
              "    }\n",
              "\n",
              "    [theme=dark] .colab-df-convert {\n",
              "      background-color: #3B4455;\n",
              "      fill: #D2E3FC;\n",
              "    }\n",
              "\n",
              "    [theme=dark] .colab-df-convert:hover {\n",
              "      background-color: #434B5C;\n",
              "      box-shadow: 0px 1px 3px 1px rgba(0, 0, 0, 0.15);\n",
              "      filter: drop-shadow(0px 1px 2px rgba(0, 0, 0, 0.3));\n",
              "      fill: #FFFFFF;\n",
              "    }\n",
              "  </style>\n",
              "\n",
              "    <script>\n",
              "      const buttonEl =\n",
              "        document.querySelector('#df-9fe8b21e-3db8-498a-ab2a-3d167b1a6287 button.colab-df-convert');\n",
              "      buttonEl.style.display =\n",
              "        google.colab.kernel.accessAllowed ? 'block' : 'none';\n",
              "\n",
              "      async function convertToInteractive(key) {\n",
              "        const element = document.querySelector('#df-9fe8b21e-3db8-498a-ab2a-3d167b1a6287');\n",
              "        const dataTable =\n",
              "          await google.colab.kernel.invokeFunction('convertToInteractive',\n",
              "                                                    [key], {});\n",
              "        if (!dataTable) return;\n",
              "\n",
              "        const docLinkHtml = 'Like what you see? Visit the ' +\n",
              "          '<a target=\"_blank\" href=https://colab.research.google.com/notebooks/data_table.ipynb>data table notebook</a>'\n",
              "          + ' to learn more about interactive tables.';\n",
              "        element.innerHTML = '';\n",
              "        dataTable['output_type'] = 'display_data';\n",
              "        await google.colab.output.renderOutput(dataTable, element);\n",
              "        const docLink = document.createElement('div');\n",
              "        docLink.innerHTML = docLinkHtml;\n",
              "        element.appendChild(docLink);\n",
              "      }\n",
              "    </script>\n",
              "  </div>\n",
              "\n",
              "\n",
              "<div id=\"df-aacd7f07-74c0-47bf-ad1d-095f31bf0a5a\">\n",
              "  <button class=\"colab-df-quickchart\" onclick=\"quickchart('df-aacd7f07-74c0-47bf-ad1d-095f31bf0a5a')\"\n",
              "            title=\"Suggest charts\"\n",
              "            style=\"display:none;\">\n",
              "\n",
              "<svg xmlns=\"http://www.w3.org/2000/svg\" height=\"24px\"viewBox=\"0 0 24 24\"\n",
              "     width=\"24px\">\n",
              "    <g>\n",
              "        <path d=\"M19 3H5c-1.1 0-2 .9-2 2v14c0 1.1.9 2 2 2h14c1.1 0 2-.9 2-2V5c0-1.1-.9-2-2-2zM9 17H7v-7h2v7zm4 0h-2V7h2v10zm4 0h-2v-4h2v4z\"/>\n",
              "    </g>\n",
              "</svg>\n",
              "  </button>\n",
              "\n",
              "<style>\n",
              "  .colab-df-quickchart {\n",
              "      --bg-color: #E8F0FE;\n",
              "      --fill-color: #1967D2;\n",
              "      --hover-bg-color: #E2EBFA;\n",
              "      --hover-fill-color: #174EA6;\n",
              "      --disabled-fill-color: #AAA;\n",
              "      --disabled-bg-color: #DDD;\n",
              "  }\n",
              "\n",
              "  [theme=dark] .colab-df-quickchart {\n",
              "      --bg-color: #3B4455;\n",
              "      --fill-color: #D2E3FC;\n",
              "      --hover-bg-color: #434B5C;\n",
              "      --hover-fill-color: #FFFFFF;\n",
              "      --disabled-bg-color: #3B4455;\n",
              "      --disabled-fill-color: #666;\n",
              "  }\n",
              "\n",
              "  .colab-df-quickchart {\n",
              "    background-color: var(--bg-color);\n",
              "    border: none;\n",
              "    border-radius: 50%;\n",
              "    cursor: pointer;\n",
              "    display: none;\n",
              "    fill: var(--fill-color);\n",
              "    height: 32px;\n",
              "    padding: 0;\n",
              "    width: 32px;\n",
              "  }\n",
              "\n",
              "  .colab-df-quickchart:hover {\n",
              "    background-color: var(--hover-bg-color);\n",
              "    box-shadow: 0 1px 2px rgba(60, 64, 67, 0.3), 0 1px 3px 1px rgba(60, 64, 67, 0.15);\n",
              "    fill: var(--button-hover-fill-color);\n",
              "  }\n",
              "\n",
              "  .colab-df-quickchart-complete:disabled,\n",
              "  .colab-df-quickchart-complete:disabled:hover {\n",
              "    background-color: var(--disabled-bg-color);\n",
              "    fill: var(--disabled-fill-color);\n",
              "    box-shadow: none;\n",
              "  }\n",
              "\n",
              "  .colab-df-spinner {\n",
              "    border: 2px solid var(--fill-color);\n",
              "    border-color: transparent;\n",
              "    border-bottom-color: var(--fill-color);\n",
              "    animation:\n",
              "      spin 1s steps(1) infinite;\n",
              "  }\n",
              "\n",
              "  @keyframes spin {\n",
              "    0% {\n",
              "      border-color: transparent;\n",
              "      border-bottom-color: var(--fill-color);\n",
              "      border-left-color: var(--fill-color);\n",
              "    }\n",
              "    20% {\n",
              "      border-color: transparent;\n",
              "      border-left-color: var(--fill-color);\n",
              "      border-top-color: var(--fill-color);\n",
              "    }\n",
              "    30% {\n",
              "      border-color: transparent;\n",
              "      border-left-color: var(--fill-color);\n",
              "      border-top-color: var(--fill-color);\n",
              "      border-right-color: var(--fill-color);\n",
              "    }\n",
              "    40% {\n",
              "      border-color: transparent;\n",
              "      border-right-color: var(--fill-color);\n",
              "      border-top-color: var(--fill-color);\n",
              "    }\n",
              "    60% {\n",
              "      border-color: transparent;\n",
              "      border-right-color: var(--fill-color);\n",
              "    }\n",
              "    80% {\n",
              "      border-color: transparent;\n",
              "      border-right-color: var(--fill-color);\n",
              "      border-bottom-color: var(--fill-color);\n",
              "    }\n",
              "    90% {\n",
              "      border-color: transparent;\n",
              "      border-bottom-color: var(--fill-color);\n",
              "    }\n",
              "  }\n",
              "</style>\n",
              "\n",
              "  <script>\n",
              "    async function quickchart(key) {\n",
              "      const quickchartButtonEl =\n",
              "        document.querySelector('#' + key + ' button');\n",
              "      quickchartButtonEl.disabled = true;  // To prevent multiple clicks.\n",
              "      quickchartButtonEl.classList.add('colab-df-spinner');\n",
              "      try {\n",
              "        const charts = await google.colab.kernel.invokeFunction(\n",
              "            'suggestCharts', [key], {});\n",
              "      } catch (error) {\n",
              "        console.error('Error during call to suggestCharts:', error);\n",
              "      }\n",
              "      quickchartButtonEl.classList.remove('colab-df-spinner');\n",
              "      quickchartButtonEl.classList.add('colab-df-quickchart-complete');\n",
              "    }\n",
              "    (() => {\n",
              "      let quickchartButtonEl =\n",
              "        document.querySelector('#df-aacd7f07-74c0-47bf-ad1d-095f31bf0a5a button');\n",
              "      quickchartButtonEl.style.display =\n",
              "        google.colab.kernel.accessAllowed ? 'block' : 'none';\n",
              "    })();\n",
              "  </script>\n",
              "</div>\n",
              "\n",
              "  <div id=\"id_2b5e9243-5321-46e3-92b5-3e1a3a812535\">\n",
              "    <style>\n",
              "      .colab-df-generate {\n",
              "        background-color: #E8F0FE;\n",
              "        border: none;\n",
              "        border-radius: 50%;\n",
              "        cursor: pointer;\n",
              "        display: none;\n",
              "        fill: #1967D2;\n",
              "        height: 32px;\n",
              "        padding: 0 0 0 0;\n",
              "        width: 32px;\n",
              "      }\n",
              "\n",
              "      .colab-df-generate:hover {\n",
              "        background-color: #E2EBFA;\n",
              "        box-shadow: 0px 1px 2px rgba(60, 64, 67, 0.3), 0px 1px 3px 1px rgba(60, 64, 67, 0.15);\n",
              "        fill: #174EA6;\n",
              "      }\n",
              "\n",
              "      [theme=dark] .colab-df-generate {\n",
              "        background-color: #3B4455;\n",
              "        fill: #D2E3FC;\n",
              "      }\n",
              "\n",
              "      [theme=dark] .colab-df-generate:hover {\n",
              "        background-color: #434B5C;\n",
              "        box-shadow: 0px 1px 3px 1px rgba(0, 0, 0, 0.15);\n",
              "        filter: drop-shadow(0px 1px 2px rgba(0, 0, 0, 0.3));\n",
              "        fill: #FFFFFF;\n",
              "      }\n",
              "    </style>\n",
              "    <button class=\"colab-df-generate\" onclick=\"generateWithVariable('labels')\"\n",
              "            title=\"Generate code using this dataframe.\"\n",
              "            style=\"display:none;\">\n",
              "\n",
              "  <svg xmlns=\"http://www.w3.org/2000/svg\" height=\"24px\"viewBox=\"0 0 24 24\"\n",
              "       width=\"24px\">\n",
              "    <path d=\"M7,19H8.4L18.45,9,17,7.55,7,17.6ZM5,21V16.75L18.45,3.32a2,2,0,0,1,2.83,0l1.4,1.43a1.91,1.91,0,0,1,.58,1.4,1.91,1.91,0,0,1-.58,1.4L9.25,21ZM18.45,9,17,7.55Zm-12,3A5.31,5.31,0,0,0,4.9,8.1,5.31,5.31,0,0,0,1,6.5,5.31,5.31,0,0,0,4.9,4.9,5.31,5.31,0,0,0,6.5,1,5.31,5.31,0,0,0,8.1,4.9,5.31,5.31,0,0,0,12,6.5,5.46,5.46,0,0,0,6.5,12Z\"/>\n",
              "  </svg>\n",
              "    </button>\n",
              "    <script>\n",
              "      (() => {\n",
              "      const buttonEl =\n",
              "        document.querySelector('#id_2b5e9243-5321-46e3-92b5-3e1a3a812535 button.colab-df-generate');\n",
              "      buttonEl.style.display =\n",
              "        google.colab.kernel.accessAllowed ? 'block' : 'none';\n",
              "\n",
              "      buttonEl.onclick = () => {\n",
              "        google.colab.notebook.generateWithVariable('labels');\n",
              "      }\n",
              "      })();\n",
              "    </script>\n",
              "  </div>\n",
              "\n",
              "    </div>\n",
              "  </div>\n"
            ],
            "application/vnd.google.colaboratory.intrinsic+json": {
              "type": "dataframe",
              "variable_name": "labels",
              "summary": "{\n  \"name\": \"labels\",\n  \"rows\": 1612,\n  \"fields\": [\n    {\n      \"column\": \"filenames\",\n      \"properties\": {\n        \"dtype\": \"string\",\n        \"num_unique_values\": 1612,\n        \"samples\": [\n          \"0030.wav\",\n          \"0260.wav\",\n          \"0384.wav\"\n        ],\n        \"semantic_type\": \"\",\n        \"description\": \"\"\n      }\n    },\n    {\n      \"column\": \"class_id\",\n      \"properties\": {\n        \"dtype\": \"number\",\n        \"std\": 1,\n        \"min\": 1,\n        \"max\": 6,\n        \"num_unique_values\": 6,\n        \"samples\": [\n          1,\n          2,\n          6\n        ],\n        \"semantic_type\": \"\",\n        \"description\": \"\"\n      }\n    }\n  ]\n}"
            }
          },
          "metadata": {},
          "execution_count": 6
        }
      ],
      "source": [
        "labels"
      ]
    },
    {
      "cell_type": "markdown",
      "metadata": {
        "id": "ELPaoset0bJi"
      },
      "source": [
        "# Feature Extraction"
      ]
    },
    {
      "cell_type": "markdown",
      "metadata": {
        "id": "0etZmUmD6Gm-"
      },
      "source": [
        "**Extracting MFCC features**"
      ]
    },
    {
      "cell_type": "code",
      "execution_count": 7,
      "metadata": {
        "id": "8j0QWORQ0SZe"
      },
      "outputs": [],
      "source": [
        "def MFCC_features(file_name):\n",
        "  audio, sample_rate = librosa.load(dataset + '/' + file_name)\n",
        "\n",
        "  desired_length = 661500\n",
        "\n",
        "  if len(audio) < desired_length:\n",
        "    audio = np.pad(audio, (0, desired_length - len(audio)), mode = 'constant')\n",
        "\n",
        "  MFCC = librosa.feature.mfcc(y = audio, sr = sample_rate, n_mfcc = 13)\n",
        "  MFCC_scaled = np.mean(MFCC.T, axis = 0)\n",
        "\n",
        "  return MFCC_scaled"
      ]
    },
    {
      "cell_type": "code",
      "execution_count": 8,
      "metadata": {
        "id": "mLv0pkJF0h4a"
      },
      "outputs": [],
      "source": [
        "# Create a numpy matrix to store the mfcc vectors\n",
        "X = np.zeros([1612, 13])\n",
        "# A vector to store the output labels\n",
        "Y = np.zeros(len(labels))"
      ]
    },
    {
      "cell_type": "code",
      "execution_count": 9,
      "metadata": {
        "colab": {
          "base_uri": "https://localhost:8080/"
        },
        "id": "BZ0x9tZh2dGq",
        "outputId": "cfb8271b-9dc3-4c5a-ef3e-d19958bb01b5"
      },
      "outputs": [
        {
          "output_type": "stream",
          "name": "stderr",
          "text": [
            "1612it [02:53,  9.31it/s]\n"
          ]
        }
      ],
      "source": [
        "# Extract the features\n",
        "for index, rows in tqdm(labels.iterrows()):\n",
        "  file_name = rows['filenames']\n",
        "  class_id = rows['class_id']\n",
        "\n",
        "  MFCC = MFCC_features(file_name)\n",
        "  X[index] = MFCC\n",
        "  Y[index] = class_id"
      ]
    },
    {
      "cell_type": "code",
      "execution_count": 10,
      "metadata": {
        "id": "JStIVnhgk2VK",
        "colab": {
          "base_uri": "https://localhost:8080/"
        },
        "outputId": "0d3bc9d4-228c-49ed-e9cd-0c18df15dc4c"
      },
      "outputs": [
        {
          "output_type": "execute_result",
          "data": {
            "text/plain": [
              "(1612, 13)"
            ]
          },
          "metadata": {},
          "execution_count": 10
        }
      ],
      "source": [
        "X.shape"
      ]
    },
    {
      "cell_type": "code",
      "source": [
        "# Transform the output labels from range (1 - 6) to (0 - 5)\n",
        "y_transform = Y - 1"
      ],
      "metadata": {
        "id": "uI0SuPSx4WAT"
      },
      "execution_count": 11,
      "outputs": []
    },
    {
      "cell_type": "markdown",
      "metadata": {
        "id": "vohRp7Ke7UP5"
      },
      "source": [
        "# CLASSIFICATION"
      ]
    },
    {
      "cell_type": "code",
      "execution_count": 12,
      "metadata": {
        "id": "ZBdAVJ9h7tuJ"
      },
      "outputs": [],
      "source": [
        "# Import the depencies\n",
        "import tensorflow as tf\n",
        "from tensorflow import keras\n",
        "from sklearn.model_selection import train_test_split"
      ]
    },
    {
      "cell_type": "code",
      "execution_count": 13,
      "metadata": {
        "id": "Zb0PeZLA37Hd"
      },
      "outputs": [],
      "source": [
        "# Perform the train test split\n",
        "x_train, x_test, y_train, y_test = train_test_split(X, y_transform, test_size = 0.20)"
      ]
    },
    {
      "cell_type": "code",
      "source": [],
      "metadata": {
        "id": "C9-pSUvw4EqJ"
      },
      "execution_count": 13,
      "outputs": []
    },
    {
      "cell_type": "code",
      "execution_count": 14,
      "metadata": {
        "colab": {
          "base_uri": "https://localhost:8080/"
        },
        "id": "Lqxlt221b-wm",
        "outputId": "500757cb-77ab-4983-da02-0aad2960f36f"
      },
      "outputs": [
        {
          "output_type": "execute_result",
          "data": {
            "text/plain": [
              "(1289, 13)"
            ]
          },
          "metadata": {},
          "execution_count": 14
        }
      ],
      "source": [
        "x_train.shape"
      ]
    },
    {
      "cell_type": "code",
      "execution_count": 15,
      "metadata": {
        "colab": {
          "base_uri": "https://localhost:8080/"
        },
        "id": "mPgrxipkhjqq",
        "outputId": "609b923e-782a-4194-a0cb-ecf4435218d6"
      },
      "outputs": [
        {
          "output_type": "execute_result",
          "data": {
            "text/plain": [
              "(1289,)"
            ]
          },
          "metadata": {},
          "execution_count": 15
        }
      ],
      "source": [
        "y_train.shape"
      ]
    },
    {
      "cell_type": "code",
      "execution_count": 16,
      "metadata": {
        "colab": {
          "base_uri": "https://localhost:8080/"
        },
        "id": "gMUAurQdDvg5",
        "outputId": "1267651f-06c1-48ef-d852-fe3fd997fca6"
      },
      "outputs": [
        {
          "output_type": "execute_result",
          "data": {
            "text/plain": [
              "array([-3.91552094e+02, -1.00959015e+01, -1.29657087e+01, -5.39978838e+00,\n",
              "       -5.31013489e+00, -3.36175948e-01, -3.53993249e+00, -9.33654010e-02,\n",
              "       -2.48959374e+00,  2.52053761e+00, -7.62706161e-01,  2.23532724e+00,\n",
              "       -1.85328627e+00])"
            ]
          },
          "metadata": {},
          "execution_count": 16
        }
      ],
      "source": [
        "x_train[0]"
      ]
    },
    {
      "cell_type": "markdown",
      "metadata": {
        "id": "JdblpWAl8oU2"
      },
      "source": [
        "# Building Model\n"
      ]
    },
    {
      "cell_type": "markdown",
      "metadata": {
        "id": "bICgAYN48tIx"
      },
      "source": [
        "**Build model**\n"
      ]
    },
    {
      "cell_type": "code",
      "execution_count": 17,
      "metadata": {
        "id": "wOShGUTL7TXr"
      },
      "outputs": [],
      "source": [
        "\n",
        "#   create model\n",
        "model = keras.Sequential()\n",
        "\n",
        "#   2 LSTM layers\n",
        "model.add(keras.layers.LSTM(128, input_shape = (13, 1), return_sequences = \"True\"))\n",
        "model.add(keras.layers.LSTM(64))\n",
        "\n",
        "#   Dense layer\n",
        "model.add(keras.layers.Dense(64, activation = \"tanh\"))\n",
        "model.add(keras.layers.Dropout(0.3))\n",
        "\n",
        "#   output layer\n",
        "model.add(keras.layers.Dense(6, activation = \"softmax\"))\n",
        "\n"
      ]
    },
    {
      "cell_type": "code",
      "execution_count": 18,
      "metadata": {
        "id": "I6GmUAEK5xL6"
      },
      "outputs": [],
      "source": [
        "model.compile(\n",
        "    optimizer = 'Adam',\n",
        "    loss = 'sparse_categorical_crossentropy',\n",
        "    metrics = ['accuracy']\n",
        ")"
      ]
    },
    {
      "cell_type": "code",
      "execution_count": 19,
      "metadata": {
        "colab": {
          "base_uri": "https://localhost:8080/"
        },
        "id": "vFb8U8cZ-uNN",
        "outputId": "cded4143-1e71-4649-a009-5038f24b52d9"
      },
      "outputs": [
        {
          "output_type": "stream",
          "name": "stdout",
          "text": [
            "Model: \"sequential\"\n",
            "_________________________________________________________________\n",
            " Layer (type)                Output Shape              Param #   \n",
            "=================================================================\n",
            " lstm (LSTM)                 (None, 13, 128)           66560     \n",
            "                                                                 \n",
            " lstm_1 (LSTM)               (None, 64)                49408     \n",
            "                                                                 \n",
            " dense (Dense)               (None, 64)                4160      \n",
            "                                                                 \n",
            " dropout (Dropout)           (None, 64)                0         \n",
            "                                                                 \n",
            " dense_1 (Dense)             (None, 6)                 390       \n",
            "                                                                 \n",
            "=================================================================\n",
            "Total params: 120518 (470.77 KB)\n",
            "Trainable params: 120518 (470.77 KB)\n",
            "Non-trainable params: 0 (0.00 Byte)\n",
            "_________________________________________________________________\n"
          ]
        }
      ],
      "source": [
        "model.summary()"
      ]
    },
    {
      "cell_type": "code",
      "execution_count": 20,
      "metadata": {
        "id": "Wx3XBzPZ-YRF",
        "colab": {
          "base_uri": "https://localhost:8080/"
        },
        "outputId": "c53718c5-7b57-4530-8741-b886eaa9bd17"
      },
      "outputs": [
        {
          "output_type": "stream",
          "name": "stdout",
          "text": [
            "Epoch 1/100\n",
            "41/41 [==============================] - 7s 36ms/step - loss: 1.5453 - accuracy: 0.4011 - val_loss: 1.3539 - val_accuracy: 0.4737\n",
            "Epoch 2/100\n",
            "41/41 [==============================] - 0s 11ms/step - loss: 1.3149 - accuracy: 0.5221 - val_loss: 1.2265 - val_accuracy: 0.5356\n",
            "Epoch 3/100\n",
            "41/41 [==============================] - 0s 10ms/step - loss: 1.2317 - accuracy: 0.5283 - val_loss: 1.1467 - val_accuracy: 0.6099\n",
            "Epoch 4/100\n",
            "41/41 [==============================] - 1s 13ms/step - loss: 1.1047 - accuracy: 0.6090 - val_loss: 1.0682 - val_accuracy: 0.6285\n",
            "Epoch 5/100\n",
            "41/41 [==============================] - 0s 11ms/step - loss: 1.0514 - accuracy: 0.6292 - val_loss: 0.9654 - val_accuracy: 0.6409\n",
            "Epoch 6/100\n",
            "41/41 [==============================] - 0s 11ms/step - loss: 0.9166 - accuracy: 0.6850 - val_loss: 0.8545 - val_accuracy: 0.7028\n",
            "Epoch 7/100\n",
            "41/41 [==============================] - 0s 11ms/step - loss: 0.8229 - accuracy: 0.7153 - val_loss: 0.7604 - val_accuracy: 0.7399\n",
            "Epoch 8/100\n",
            "41/41 [==============================] - 1s 16ms/step - loss: 0.7559 - accuracy: 0.7448 - val_loss: 0.7216 - val_accuracy: 0.7523\n",
            "Epoch 9/100\n",
            "41/41 [==============================] - 0s 11ms/step - loss: 0.6530 - accuracy: 0.7836 - val_loss: 0.6271 - val_accuracy: 0.7895\n",
            "Epoch 10/100\n",
            "41/41 [==============================] - 0s 9ms/step - loss: 0.5651 - accuracy: 0.7952 - val_loss: 0.6019 - val_accuracy: 0.7957\n",
            "Epoch 11/100\n",
            "41/41 [==============================] - 0s 9ms/step - loss: 0.5354 - accuracy: 0.8262 - val_loss: 0.5743 - val_accuracy: 0.8111\n",
            "Epoch 12/100\n",
            "41/41 [==============================] - 0s 9ms/step - loss: 0.4816 - accuracy: 0.8340 - val_loss: 0.5268 - val_accuracy: 0.8297\n",
            "Epoch 13/100\n",
            "41/41 [==============================] - 0s 9ms/step - loss: 0.4472 - accuracy: 0.8379 - val_loss: 0.4466 - val_accuracy: 0.8545\n",
            "Epoch 14/100\n",
            "41/41 [==============================] - 0s 9ms/step - loss: 0.3664 - accuracy: 0.8790 - val_loss: 0.4430 - val_accuracy: 0.8576\n",
            "Epoch 15/100\n",
            "41/41 [==============================] - 0s 9ms/step - loss: 0.3244 - accuracy: 0.8867 - val_loss: 0.4249 - val_accuracy: 0.8607\n",
            "Epoch 16/100\n",
            "41/41 [==============================] - 0s 8ms/step - loss: 0.3134 - accuracy: 0.8906 - val_loss: 0.3917 - val_accuracy: 0.8545\n",
            "Epoch 17/100\n",
            "41/41 [==============================] - 0s 8ms/step - loss: 0.2902 - accuracy: 0.9061 - val_loss: 0.3595 - val_accuracy: 0.8854\n",
            "Epoch 18/100\n",
            "41/41 [==============================] - 0s 8ms/step - loss: 0.3441 - accuracy: 0.8914 - val_loss: 0.4131 - val_accuracy: 0.8669\n",
            "Epoch 19/100\n",
            "41/41 [==============================] - 0s 8ms/step - loss: 0.2117 - accuracy: 0.9317 - val_loss: 0.3399 - val_accuracy: 0.8978\n",
            "Epoch 20/100\n",
            "41/41 [==============================] - 0s 7ms/step - loss: 0.2877 - accuracy: 0.9022 - val_loss: 0.3417 - val_accuracy: 0.9102\n",
            "Epoch 21/100\n",
            "41/41 [==============================] - 0s 8ms/step - loss: 0.1871 - accuracy: 0.9364 - val_loss: 0.3087 - val_accuracy: 0.9102\n",
            "Epoch 22/100\n",
            "41/41 [==============================] - 0s 8ms/step - loss: 0.1881 - accuracy: 0.9364 - val_loss: 0.3252 - val_accuracy: 0.8916\n",
            "Epoch 23/100\n",
            "41/41 [==============================] - 0s 8ms/step - loss: 0.1721 - accuracy: 0.9387 - val_loss: 0.2882 - val_accuracy: 0.9257\n",
            "Epoch 24/100\n",
            "41/41 [==============================] - 0s 8ms/step - loss: 0.1682 - accuracy: 0.9472 - val_loss: 0.3206 - val_accuracy: 0.8978\n",
            "Epoch 25/100\n",
            "41/41 [==============================] - 0s 8ms/step - loss: 0.1553 - accuracy: 0.9527 - val_loss: 0.2759 - val_accuracy: 0.9226\n",
            "Epoch 26/100\n",
            "41/41 [==============================] - 0s 8ms/step - loss: 0.1311 - accuracy: 0.9612 - val_loss: 0.3206 - val_accuracy: 0.9071\n",
            "Epoch 27/100\n",
            "41/41 [==============================] - 0s 8ms/step - loss: 0.1107 - accuracy: 0.9666 - val_loss: 0.3278 - val_accuracy: 0.9009\n",
            "Epoch 28/100\n",
            "41/41 [==============================] - 0s 8ms/step - loss: 0.1186 - accuracy: 0.9651 - val_loss: 0.3139 - val_accuracy: 0.9164\n",
            "Epoch 29/100\n",
            "41/41 [==============================] - 0s 8ms/step - loss: 0.1116 - accuracy: 0.9628 - val_loss: 0.2725 - val_accuracy: 0.9350\n",
            "Epoch 30/100\n",
            "41/41 [==============================] - 0s 8ms/step - loss: 0.1189 - accuracy: 0.9597 - val_loss: 0.2613 - val_accuracy: 0.9412\n",
            "Epoch 31/100\n",
            "41/41 [==============================] - 0s 8ms/step - loss: 0.0956 - accuracy: 0.9697 - val_loss: 0.2350 - val_accuracy: 0.9350\n",
            "Epoch 32/100\n",
            "41/41 [==============================] - 0s 7ms/step - loss: 0.0819 - accuracy: 0.9744 - val_loss: 0.2537 - val_accuracy: 0.9443\n",
            "Epoch 33/100\n",
            "41/41 [==============================] - 0s 8ms/step - loss: 0.0873 - accuracy: 0.9721 - val_loss: 0.4002 - val_accuracy: 0.9226\n",
            "Epoch 34/100\n",
            "41/41 [==============================] - 0s 7ms/step - loss: 0.1897 - accuracy: 0.9387 - val_loss: 0.3145 - val_accuracy: 0.9133\n",
            "Epoch 35/100\n",
            "41/41 [==============================] - 0s 8ms/step - loss: 0.0980 - accuracy: 0.9721 - val_loss: 0.2634 - val_accuracy: 0.9412\n",
            "Epoch 36/100\n",
            "41/41 [==============================] - 0s 8ms/step - loss: 0.1021 - accuracy: 0.9628 - val_loss: 0.3454 - val_accuracy: 0.9102\n",
            "Epoch 37/100\n",
            "41/41 [==============================] - 0s 7ms/step - loss: 0.0916 - accuracy: 0.9713 - val_loss: 0.2562 - val_accuracy: 0.9443\n",
            "Epoch 38/100\n",
            "41/41 [==============================] - 0s 10ms/step - loss: 0.0508 - accuracy: 0.9853 - val_loss: 0.2691 - val_accuracy: 0.9474\n",
            "Epoch 39/100\n",
            "41/41 [==============================] - 0s 10ms/step - loss: 0.0620 - accuracy: 0.9798 - val_loss: 0.2827 - val_accuracy: 0.9443\n",
            "Epoch 40/100\n",
            "41/41 [==============================] - 0s 10ms/step - loss: 0.0624 - accuracy: 0.9837 - val_loss: 0.2788 - val_accuracy: 0.9350\n",
            "Epoch 41/100\n",
            "41/41 [==============================] - 0s 12ms/step - loss: 0.0549 - accuracy: 0.9853 - val_loss: 0.2950 - val_accuracy: 0.9443\n",
            "Epoch 42/100\n",
            "41/41 [==============================] - 1s 14ms/step - loss: 0.0360 - accuracy: 0.9884 - val_loss: 0.2658 - val_accuracy: 0.9443\n",
            "Epoch 43/100\n",
            "41/41 [==============================] - 1s 13ms/step - loss: 0.0765 - accuracy: 0.9721 - val_loss: 0.2977 - val_accuracy: 0.9412\n",
            "Epoch 44/100\n",
            "41/41 [==============================] - 1s 12ms/step - loss: 0.0376 - accuracy: 0.9884 - val_loss: 0.2653 - val_accuracy: 0.9443\n",
            "Epoch 45/100\n",
            "41/41 [==============================] - 1s 14ms/step - loss: 0.0431 - accuracy: 0.9876 - val_loss: 0.2827 - val_accuracy: 0.9474\n",
            "Epoch 46/100\n",
            "41/41 [==============================] - 1s 13ms/step - loss: 0.0419 - accuracy: 0.9884 - val_loss: 0.3118 - val_accuracy: 0.9412\n",
            "Epoch 47/100\n",
            "41/41 [==============================] - 1s 13ms/step - loss: 0.0411 - accuracy: 0.9876 - val_loss: 0.3003 - val_accuracy: 0.9381\n",
            "Epoch 48/100\n",
            "41/41 [==============================] - 1s 13ms/step - loss: 0.0625 - accuracy: 0.9791 - val_loss: 0.3034 - val_accuracy: 0.9443\n",
            "Epoch 49/100\n",
            "41/41 [==============================] - 1s 15ms/step - loss: 0.0551 - accuracy: 0.9829 - val_loss: 0.2827 - val_accuracy: 0.9443\n",
            "Epoch 50/100\n",
            "41/41 [==============================] - 1s 16ms/step - loss: 0.0319 - accuracy: 0.9891 - val_loss: 0.2963 - val_accuracy: 0.9412\n",
            "Epoch 51/100\n",
            "41/41 [==============================] - 0s 11ms/step - loss: 0.0413 - accuracy: 0.9837 - val_loss: 0.3477 - val_accuracy: 0.9412\n",
            "Epoch 52/100\n",
            "41/41 [==============================] - 0s 12ms/step - loss: 0.0415 - accuracy: 0.9868 - val_loss: 0.2549 - val_accuracy: 0.9567\n",
            "Epoch 53/100\n",
            "41/41 [==============================] - 1s 12ms/step - loss: 0.0384 - accuracy: 0.9876 - val_loss: 0.3466 - val_accuracy: 0.9381\n",
            "Epoch 54/100\n",
            "41/41 [==============================] - 0s 11ms/step - loss: 0.0566 - accuracy: 0.9806 - val_loss: 0.2489 - val_accuracy: 0.9536\n",
            "Epoch 55/100\n",
            "41/41 [==============================] - 0s 8ms/step - loss: 0.0511 - accuracy: 0.9860 - val_loss: 0.3085 - val_accuracy: 0.9381\n",
            "Epoch 56/100\n",
            "41/41 [==============================] - 0s 7ms/step - loss: 0.0978 - accuracy: 0.9721 - val_loss: 0.2981 - val_accuracy: 0.9319\n",
            "Epoch 57/100\n",
            "41/41 [==============================] - 0s 9ms/step - loss: 0.1270 - accuracy: 0.9612 - val_loss: 0.2914 - val_accuracy: 0.9381\n",
            "Epoch 58/100\n",
            "41/41 [==============================] - 0s 8ms/step - loss: 0.0560 - accuracy: 0.9829 - val_loss: 0.3196 - val_accuracy: 0.9381\n",
            "Epoch 59/100\n",
            "41/41 [==============================] - 0s 8ms/step - loss: 0.0452 - accuracy: 0.9860 - val_loss: 0.2774 - val_accuracy: 0.9505\n",
            "Epoch 60/100\n",
            "41/41 [==============================] - 0s 9ms/step - loss: 0.0423 - accuracy: 0.9829 - val_loss: 0.2725 - val_accuracy: 0.9412\n",
            "Epoch 61/100\n",
            "41/41 [==============================] - 0s 8ms/step - loss: 0.0256 - accuracy: 0.9915 - val_loss: 0.2815 - val_accuracy: 0.9536\n",
            "Epoch 62/100\n",
            "41/41 [==============================] - 0s 8ms/step - loss: 0.0307 - accuracy: 0.9876 - val_loss: 0.2682 - val_accuracy: 0.9505\n",
            "Epoch 63/100\n",
            "41/41 [==============================] - 0s 9ms/step - loss: 0.0222 - accuracy: 0.9938 - val_loss: 0.2712 - val_accuracy: 0.9536\n",
            "Epoch 64/100\n",
            "41/41 [==============================] - 0s 8ms/step - loss: 0.0222 - accuracy: 0.9930 - val_loss: 0.2637 - val_accuracy: 0.9536\n",
            "Epoch 65/100\n",
            "41/41 [==============================] - 0s 9ms/step - loss: 0.0476 - accuracy: 0.9868 - val_loss: 0.2855 - val_accuracy: 0.9536\n",
            "Epoch 66/100\n",
            "41/41 [==============================] - 0s 8ms/step - loss: 0.0348 - accuracy: 0.9860 - val_loss: 0.2268 - val_accuracy: 0.9567\n",
            "Epoch 67/100\n",
            "41/41 [==============================] - 0s 8ms/step - loss: 0.0329 - accuracy: 0.9876 - val_loss: 0.2509 - val_accuracy: 0.9598\n",
            "Epoch 68/100\n",
            "41/41 [==============================] - 0s 8ms/step - loss: 0.0235 - accuracy: 0.9907 - val_loss: 0.2747 - val_accuracy: 0.9443\n",
            "Epoch 69/100\n",
            "41/41 [==============================] - 0s 8ms/step - loss: 0.0262 - accuracy: 0.9907 - val_loss: 0.2642 - val_accuracy: 0.9536\n",
            "Epoch 70/100\n",
            "41/41 [==============================] - 0s 7ms/step - loss: 0.0168 - accuracy: 0.9938 - val_loss: 0.2619 - val_accuracy: 0.9567\n",
            "Epoch 71/100\n",
            "41/41 [==============================] - 0s 7ms/step - loss: 0.0226 - accuracy: 0.9922 - val_loss: 0.2511 - val_accuracy: 0.9628\n",
            "Epoch 72/100\n",
            "41/41 [==============================] - 0s 8ms/step - loss: 0.0209 - accuracy: 0.9938 - val_loss: 0.2617 - val_accuracy: 0.9598\n",
            "Epoch 73/100\n",
            "41/41 [==============================] - 0s 7ms/step - loss: 0.0357 - accuracy: 0.9899 - val_loss: 0.2833 - val_accuracy: 0.9505\n",
            "Epoch 74/100\n",
            "41/41 [==============================] - 0s 8ms/step - loss: 0.0255 - accuracy: 0.9915 - val_loss: 0.2510 - val_accuracy: 0.9567\n",
            "Epoch 75/100\n",
            "41/41 [==============================] - 0s 8ms/step - loss: 0.0239 - accuracy: 0.9915 - val_loss: 0.2884 - val_accuracy: 0.9536\n",
            "Epoch 76/100\n",
            "41/41 [==============================] - 0s 8ms/step - loss: 0.0543 - accuracy: 0.9829 - val_loss: 0.4192 - val_accuracy: 0.9412\n",
            "Epoch 77/100\n",
            "41/41 [==============================] - 0s 8ms/step - loss: 0.0529 - accuracy: 0.9876 - val_loss: 0.2993 - val_accuracy: 0.9505\n",
            "Epoch 78/100\n",
            "41/41 [==============================] - 0s 9ms/step - loss: 0.0266 - accuracy: 0.9915 - val_loss: 0.2584 - val_accuracy: 0.9536\n",
            "Epoch 79/100\n",
            "41/41 [==============================] - 0s 10ms/step - loss: 0.0147 - accuracy: 0.9946 - val_loss: 0.2727 - val_accuracy: 0.9536\n",
            "Epoch 80/100\n",
            "41/41 [==============================] - 0s 11ms/step - loss: 0.0197 - accuracy: 0.9938 - val_loss: 0.2674 - val_accuracy: 0.9536\n",
            "Epoch 81/100\n",
            "41/41 [==============================] - 0s 10ms/step - loss: 0.0151 - accuracy: 0.9953 - val_loss: 0.2586 - val_accuracy: 0.9536\n",
            "Epoch 82/100\n",
            "41/41 [==============================] - 0s 11ms/step - loss: 0.0228 - accuracy: 0.9922 - val_loss: 0.2795 - val_accuracy: 0.9412\n",
            "Epoch 83/100\n",
            "41/41 [==============================] - 0s 11ms/step - loss: 0.0178 - accuracy: 0.9907 - val_loss: 0.2718 - val_accuracy: 0.9567\n",
            "Epoch 84/100\n",
            "41/41 [==============================] - 0s 11ms/step - loss: 0.1056 - accuracy: 0.9721 - val_loss: 0.3295 - val_accuracy: 0.9412\n",
            "Epoch 85/100\n",
            "41/41 [==============================] - 0s 12ms/step - loss: 0.0814 - accuracy: 0.9736 - val_loss: 0.4089 - val_accuracy: 0.9102\n",
            "Epoch 86/100\n",
            "41/41 [==============================] - 0s 12ms/step - loss: 0.1327 - accuracy: 0.9480 - val_loss: 0.4007 - val_accuracy: 0.9102\n",
            "Epoch 87/100\n",
            "41/41 [==============================] - 1s 14ms/step - loss: 0.1005 - accuracy: 0.9682 - val_loss: 0.2848 - val_accuracy: 0.9505\n",
            "Epoch 88/100\n",
            "41/41 [==============================] - 0s 10ms/step - loss: 0.0372 - accuracy: 0.9868 - val_loss: 0.3091 - val_accuracy: 0.9474\n",
            "Epoch 89/100\n",
            "41/41 [==============================] - 0s 8ms/step - loss: 0.0321 - accuracy: 0.9891 - val_loss: 0.3363 - val_accuracy: 0.9226\n",
            "Epoch 90/100\n",
            "41/41 [==============================] - 0s 8ms/step - loss: 0.0685 - accuracy: 0.9775 - val_loss: 0.2894 - val_accuracy: 0.9288\n",
            "Epoch 91/100\n",
            "41/41 [==============================] - 0s 8ms/step - loss: 0.0572 - accuracy: 0.9814 - val_loss: 0.2397 - val_accuracy: 0.9505\n",
            "Epoch 92/100\n",
            "41/41 [==============================] - 0s 9ms/step - loss: 0.0287 - accuracy: 0.9915 - val_loss: 0.2624 - val_accuracy: 0.9412\n",
            "Epoch 93/100\n",
            "41/41 [==============================] - 0s 9ms/step - loss: 0.0505 - accuracy: 0.9798 - val_loss: 0.2926 - val_accuracy: 0.9412\n",
            "Epoch 94/100\n",
            "41/41 [==============================] - 0s 9ms/step - loss: 0.0968 - accuracy: 0.9713 - val_loss: 0.3660 - val_accuracy: 0.9257\n",
            "Epoch 95/100\n",
            "41/41 [==============================] - 0s 8ms/step - loss: 0.0596 - accuracy: 0.9822 - val_loss: 0.2656 - val_accuracy: 0.9474\n",
            "Epoch 96/100\n",
            "41/41 [==============================] - 0s 8ms/step - loss: 0.0268 - accuracy: 0.9907 - val_loss: 0.2701 - val_accuracy: 0.9536\n",
            "Epoch 97/100\n",
            "41/41 [==============================] - 0s 8ms/step - loss: 0.0174 - accuracy: 0.9922 - val_loss: 0.2746 - val_accuracy: 0.9474\n",
            "Epoch 98/100\n",
            "41/41 [==============================] - 0s 9ms/step - loss: 0.0189 - accuracy: 0.9946 - val_loss: 0.2589 - val_accuracy: 0.9505\n",
            "Epoch 99/100\n",
            "41/41 [==============================] - 0s 8ms/step - loss: 0.0138 - accuracy: 0.9946 - val_loss: 0.2566 - val_accuracy: 0.9536\n",
            "Epoch 100/100\n",
            "41/41 [==============================] - 0s 8ms/step - loss: 0.0157 - accuracy: 0.9953 - val_loss: 0.2578 - val_accuracy: 0.9536\n"
          ]
        }
      ],
      "source": [
        "history = model.fit(x_train, y_train, validation_data = (x_test, y_test), epochs = 100)"
      ]
    },
    {
      "cell_type": "markdown",
      "source": [
        "**Saved Models**"
      ],
      "metadata": {
        "id": "UaG95pYWdegZ"
      }
    },
    {
      "cell_type": "code",
      "execution_count": 21,
      "metadata": {
        "id": "L-1m--9I-yOX",
        "colab": {
          "base_uri": "https://localhost:8080/"
        },
        "outputId": "f31981a2-c2ba-4bdf-e30c-0d2353bcb62e"
      },
      "outputs": [
        {
          "output_type": "stream",
          "name": "stdout",
          "text": [
            "11/11 [==============================] - 0s 4ms/step - loss: 0.2578 - accuracy: 0.9536\n"
          ]
        }
      ],
      "source": [
        "estimator = model.evaluate(x_test, y_test)"
      ]
    },
    {
      "cell_type": "code",
      "execution_count": 40,
      "metadata": {
        "id": "qmuvzY5NvjUP",
        "colab": {
          "base_uri": "https://localhost:8080/"
        },
        "outputId": "82d1ed24-404e-4f2a-8bc8-04d7582d4992"
      },
      "outputs": [
        {
          "output_type": "stream",
          "name": "stdout",
          "text": [
            "11/11 [==============================] - 0s 3ms/step\n"
          ]
        },
        {
          "output_type": "execute_result",
          "data": {
            "text/plain": [
              "array([[9.6045011e-01, 6.6016932e-05, 1.1858272e-05, 2.7246220e-05,\n",
              "        6.6176947e-04, 3.8782865e-02],\n",
              "       [7.6139381e-04, 3.0064524e-05, 1.6055068e-05, 4.6041492e-05,\n",
              "        6.2672725e-06, 9.9914014e-01],\n",
              "       [4.5380684e-06, 9.4115021e-06, 8.2796701e-05, 7.1952832e-06,\n",
              "        9.0488868e-07, 9.9989510e-01],\n",
              "       ...,\n",
              "       [9.5764954e-06, 4.6981296e-07, 9.9994111e-01, 4.5749428e-05,\n",
              "        3.8614758e-08, 3.0180429e-06],\n",
              "       [1.3703313e-04, 9.9790949e-01, 1.5950600e-03, 1.3421514e-04,\n",
              "        7.9180636e-06, 2.1616249e-04],\n",
              "       [4.9756291e-06, 2.7613005e-06, 6.2451926e-07, 4.3545674e-06,\n",
              "        8.9249812e-07, 9.9998641e-01]], dtype=float32)"
            ]
          },
          "metadata": {},
          "execution_count": 40
        }
      ],
      "source": [
        "predicted = model.predict(x_test)\n",
        "predicted"
      ]
    },
    {
      "cell_type": "code",
      "execution_count": 41,
      "metadata": {
        "id": "-7_Jk5tdLrTo",
        "colab": {
          "base_uri": "https://localhost:8080/"
        },
        "outputId": "6d4a037f-7f1d-4210-fb69-d4946b5ee856"
      },
      "outputs": [
        {
          "output_type": "execute_result",
          "data": {
            "text/plain": [
              "array([9.6045011e-01, 6.6016932e-05, 1.1858272e-05, 2.7246220e-05,\n",
              "       6.6176947e-04, 3.8782865e-02], dtype=float32)"
            ]
          },
          "metadata": {},
          "execution_count": 41
        }
      ],
      "source": [
        "predicted[0]"
      ]
    },
    {
      "cell_type": "code",
      "execution_count": 42,
      "metadata": {
        "id": "7BFdND3ILvXM"
      },
      "outputs": [],
      "source": [
        "label = np.argmax(predicted[0])"
      ]
    },
    {
      "cell_type": "code",
      "execution_count": 43,
      "metadata": {
        "id": "GO7g6oSVL4r0",
        "colab": {
          "base_uri": "https://localhost:8080/"
        },
        "outputId": "12524437-a663-490f-8510-0971d6c99554"
      },
      "outputs": [
        {
          "output_type": "execute_result",
          "data": {
            "text/plain": [
              "0"
            ]
          },
          "metadata": {},
          "execution_count": 43
        }
      ],
      "source": [
        "label"
      ]
    },
    {
      "cell_type": "code",
      "execution_count": 44,
      "metadata": {
        "id": "lL1xji4gL6M8",
        "colab": {
          "base_uri": "https://localhost:8080/"
        },
        "outputId": "a6d4177b-1b8a-415c-b16c-664aa40a2a01"
      },
      "outputs": [
        {
          "output_type": "execute_result",
          "data": {
            "text/plain": [
              "0.0"
            ]
          },
          "metadata": {},
          "execution_count": 44
        }
      ],
      "source": [
        "y_test[0]"
      ]
    },
    {
      "cell_type": "code",
      "execution_count": 45,
      "metadata": {
        "id": "iCJ7uVonL8ZE"
      },
      "outputs": [],
      "source": [
        "y_predicted = [np.argmax(i) for i in predicted]"
      ]
    },
    {
      "cell_type": "code",
      "execution_count": 46,
      "metadata": {
        "id": "uubngiTYNgDT",
        "colab": {
          "base_uri": "https://localhost:8080/"
        },
        "outputId": "87b02fd0-8373-45d1-fb61-4ecc89e9d897"
      },
      "outputs": [
        {
          "output_type": "execute_result",
          "data": {
            "text/plain": [
              "array([0., 5., 5., 2., 5.])"
            ]
          },
          "metadata": {},
          "execution_count": 46
        }
      ],
      "source": [
        "y_test[:5]"
      ]
    },
    {
      "cell_type": "code",
      "execution_count": 47,
      "metadata": {
        "id": "HGD9I6YYNi65",
        "colab": {
          "base_uri": "https://localhost:8080/"
        },
        "outputId": "15722d39-aa1d-437b-91c8-d6f52f7236ba"
      },
      "outputs": [
        {
          "output_type": "execute_result",
          "data": {
            "text/plain": [
              "[0, 5, 5, 2, 5]"
            ]
          },
          "metadata": {},
          "execution_count": 47
        }
      ],
      "source": [
        "y_predicted[:5]"
      ]
    },
    {
      "cell_type": "code",
      "execution_count": 48,
      "metadata": {
        "id": "dzKVHLOrNmFY"
      },
      "outputs": [],
      "source": [
        "cm = tf.math.confusion_matrix(labels = y_test, predictions = y_predicted)"
      ]
    },
    {
      "cell_type": "code",
      "execution_count": 49,
      "metadata": {
        "id": "Pg3HpQ7AN6Lf"
      },
      "outputs": [],
      "source": [
        "import matplotlib.pyplot as plt"
      ]
    },
    {
      "cell_type": "code",
      "execution_count": 50,
      "metadata": {
        "id": "etoVo3ktNxPB",
        "colab": {
          "base_uri": "https://localhost:8080/",
          "height": 636
        },
        "outputId": "cf359b14-c326-4bf5-881c-8366b45a106a"
      },
      "outputs": [
        {
          "output_type": "execute_result",
          "data": {
            "text/plain": [
              "Text(95.72222222222221, 0.5, 'Truth')"
            ]
          },
          "metadata": {},
          "execution_count": 50
        },
        {
          "output_type": "display_data",
          "data": {
            "text/plain": [
              "<Figure size 1000x700 with 2 Axes>"
            ],
            "image/png": "[encoded data removed]"
          },
          "metadata": {}
        }
      ],
      "source": [
        "import seaborn as sn\n",
        "plt.figure(figsize = (10, 7))\n",
        "sn.heatmap(cm, annot = True, fmt = 'd')\n",
        "plt.xlabel('Predicted')\n",
        "plt.ylabel('Truth')"
      ]
    },
    {
      "cell_type": "code",
      "execution_count": 51,
      "metadata": {
        "id": "2ikHrAGjN4FQ"
      },
      "outputs": [],
      "source": [
        "from sklearn.metrics import classification_report"
      ]
    },
    {
      "cell_type": "code",
      "execution_count": 52,
      "metadata": {
        "id": "isVIj4yPOl2h",
        "colab": {
          "base_uri": "https://localhost:8080/"
        },
        "outputId": "4ecdb2db-dfe9-4e21-90e6-a6f7ff4df33e"
      },
      "outputs": [
        {
          "output_type": "stream",
          "name": "stdout",
          "text": [
            "              precision    recall  f1-score   support\n",
            "\n",
            "         0.0       0.87      0.96      0.91        47\n",
            "         1.0       1.00      0.98      0.99        41\n",
            "         2.0       0.94      0.96      0.95        51\n",
            "         3.0       0.96      0.90      0.93        51\n",
            "         4.0       0.92      0.88      0.90        25\n",
            "         5.0       0.99      0.98      0.99       108\n",
            "\n",
            "    accuracy                           0.95       323\n",
            "   macro avg       0.95      0.94      0.94       323\n",
            "weighted avg       0.96      0.95      0.95       323\n",
            "\n"
          ]
        }
      ],
      "source": [
        "print(classification_report(y_test, y_predicted))"
      ]
    },
    {
      "cell_type": "code",
      "execution_count": 57,
      "metadata": {
        "id": "LRLKk47rWcU5"
      },
      "outputs": [],
      "source": [
        "def plot_history(history):\n",
        "\n",
        "    fig, axis = plt.subplots(2)\n",
        "\n",
        "    #create accuracy subplot\n",
        "    axis[0].plot(history.history[\"accuracy\"], label = \"train_accuracy\")\n",
        "    axis[0].plot(history.history[\"val_accuracy\"], label = \"test_accuracy\")\n",
        "    axis[0].set_ylabel(\"Accuracy\")\n",
        "    axis[0].legend(loc = \"lower right\")\n",
        "    axis[0].set_title(\"accuracy eval\")\n",
        "\n",
        "    #create error subplot\n",
        "    axis[1].plot(history.history[\"loss\"], label = \"train_error\")\n",
        "    axis[1].plot(history.history[\"val_loss\"], label = \"test_error\")\n",
        "    axis[1].set_xlabel(\"Epoch\")\n",
        "    axis[1].set_ylabel(\"Loss\")\n",
        "    axis[1].legend(loc = \"upper right\")\n",
        "    axis[1].set_title(\"Error eval\")\n"
      ]
    },
    {
      "cell_type": "code",
      "execution_count": 58,
      "metadata": {
        "id": "dNqf9DWRYttO",
        "colab": {
          "base_uri": "https://localhost:8080/",
          "height": 472
        },
        "outputId": "004a9ce7-32d7-4f46-ba9e-8c9dab6f1827"
      },
      "outputs": [
        {
          "output_type": "display_data",
          "data": {
            "text/plain": [
              "<Figure size 640x480 with 2 Axes>"
            ],
            "image/png": "[encoded data removed]"
          },
          "metadata": {}
        }
      ],
      "source": [
        "plot_history(history)"
      ]
    },
    {
      "cell_type": "code",
      "source": [
        "import numpy as np\n",
        "\n",
        "# Assuming you have a confusion matrix in the form of a NumPy array\n",
        "confusion_matrix = cm\n",
        "\n",
        "# Calculate precision, recall, F1 score, and accuracy for each class\n",
        "precision = np.diag(confusion_matrix) / np.sum(confusion_matrix, axis=0)\n",
        "recall = np.diag(confusion_matrix) / np.sum(confusion_matrix, axis=1)\n",
        "f1_score = 2 * (precision * recall) / (precision + recall)\n",
        "accuracy = np.sum(np.diag(confusion_matrix)) / np.sum(confusion_matrix)\n",
        "\n",
        "# Calculate overall precision, recall, F1 score, and accuracy\n",
        "overall_precision = np.mean(precision)\n",
        "overall_recall = np.mean(recall)\n",
        "overall_f1_score = np.mean(f1_score)\n",
        "overall_accuracy = accuracy\n",
        "\n",
        "print(\"Precision:\", precision)\n",
        "print(\"Recall:\", recall)\n",
        "print(\"F1 Score:\", f1_score)\n",
        "print(\"Accuracy:\", accuracy)\n",
        "\n",
        "print(\"\\nOverall Accuracy:\", overall_accuracy)\n",
        "print(\"Overall Precision:\", overall_precision)\n",
        "print(\"Overall Recall:\", overall_recall)\n",
        "print(\"Overall F1 Score:\", overall_f1_score)"
      ],
      "metadata": {
        "id": "hNw9GEx06_jR",
        "colab": {
          "base_uri": "https://localhost:8080/"
        },
        "outputId": "671005e3-4c17-42c6-e534-d737c0892ad0"
      },
      "execution_count": 59,
      "outputs": [
        {
          "output_type": "stream",
          "name": "stdout",
          "text": [
            "Precision: [0.86538462 1.         0.94230769 0.95833333 0.91666667 0.99065421]\n",
            "Recall: [0.95744681 0.97560976 0.96078431 0.90196078 0.88       0.98148148]\n",
            "F1 Score: [0.90909091 0.98765432 0.95145631 0.92929293 0.89795918 0.98604651]\n",
            "Accuracy: 0.9535603715170279\n",
            "\n",
            "Overall Accuracy: 0.9535603715170279\n",
            "Overall Precision: 0.9455577522166307\n",
            "Overall Recall: 0.9428805240214828\n",
            "Overall F1 Score: 0.9435833608920802\n"
          ]
        }
      ]
    },
    {
      "cell_type": "code",
      "source": [
        "keras.utils.plot_model(model, show_shapes=True, show_layer_names=True, to_file='architecture.png', dpi=600, show_layer_activations=True) #to_file='test.png'\n",
        "plt.savefig('test.png', dpi=300)\n",
        "plt.show()"
      ],
      "metadata": {
        "colab": {
          "base_uri": "https://localhost:8080/",
          "height": 34
        },
        "id": "z5oQN3GfRfgZ",
        "outputId": "18f4402c-c1be-4171-f16d-73813d062889"
      },
      "execution_count": 63,
      "outputs": [
        {
          "output_type": "display_data",
          "data": {
            "text/plain": [
              "<Figure size 640x480 with 0 Axes>"
            ]
          },
          "metadata": {}
        }
      ]
    }
  ]
}