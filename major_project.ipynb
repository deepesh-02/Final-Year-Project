{
  "nbformat": 4,
  "nbformat_minor": 0,
  "metadata": {
    "colab": {
      "provenance": [],
      "gpuType": "T4"
    },
    "kernelspec": {
      "name": "python3",
      "display_name": "Python 3"
    },
    "language_info": {
      "name": "python"
    },
    "accelerator": "GPU"
  },
  "cells": [
    {
      "cell_type": "markdown",
      "source": [
        "# Importing the dependencies"
      ],
      "metadata": {
        "id": "cdNU93M7r2cj"
      }
    },
    {
      "cell_type": "code",
      "source": [
        "from google.colab import drive\n",
        "drive.mount('/content/drive')"
      ],
      "metadata": {
        "id": "Jtjf5Q9qaO9g",
        "colab": {
          "base_uri": "https://localhost:8080/"
        },
        "outputId": "13448199-d925-4726-efd3-d88a1919bacb"
      },
      "execution_count": null,
      "outputs": [
        {
          "output_type": "stream",
          "name": "stdout",
          "text": [
            "Drive already mounted at /content/drive; to attempt to forcibly remount, call drive.mount(\"/content/drive\", force_remount=True).\n"
          ]
        }
      ]
    },
    {
      "cell_type": "code",
      "execution_count": null,
      "metadata": {
        "colab": {
          "base_uri": "https://localhost:8080/"
        },
        "id": "91E9B2OTzEMq",
        "outputId": "5d662284-d90a-4637-a724-4219155c9a00"
      },
      "outputs": [
        {
          "output_type": "stream",
          "name": "stdout",
          "text": [
            "CPU times: user 465 ms, sys: 63.1 ms, total: 528 ms\n",
            "Wall time: 1min 23s\n"
          ]
        }
      ],
      "source": [
        "%%time\n",
        "!unzip -q drive/MyDrive/dataset/dataset_zip.zip -d ./extracted_audios"
      ]
    },
    {
      "cell_type": "code",
      "execution_count": null,
      "metadata": {
        "id": "ADqKqnHLzKHy"
      },
      "outputs": [],
      "source": [
        "# Importing the dependencies\n",
        "import numpy as np\n",
        "import pandas as pd\n",
        "import librosa\n",
        "from tqdm import tqdm"
      ]
    },
    {
      "cell_type": "code",
      "execution_count": null,
      "metadata": {
        "id": "iuZYqdrKzdFd"
      },
      "outputs": [],
      "source": [
        "# Importing the mappings csv file\n",
        "mappings = 'drive/MyDrive/dataset/filename_to_classid_mapping.csv'\n",
        "dataset = 'extracted_audios'"
      ]
    },
    {
      "cell_type": "code",
      "execution_count": null,
      "metadata": {
        "id": "MC1k8BNy1avc"
      },
      "outputs": [],
      "source": [
        "labels = pd.read_csv(mappings, names = ['filenames', 'class_id'])"
      ]
    },
    {
      "cell_type": "code",
      "execution_count": null,
      "metadata": {
        "colab": {
          "base_uri": "https://localhost:8080/",
          "height": 423
        },
        "id": "XgFb052C1icb",
        "outputId": "645db0c8-2011-4543-e59c-42cac0a99ed3"
      },
      "outputs": [
        {
          "output_type": "execute_result",
          "data": {
            "text/plain": [
              "     filenames  class_id\n",
              "0     0001.wav         1\n",
              "1     0002.wav         1\n",
              "2     0003.wav         1\n",
              "3     0004.wav         1\n",
              "4     0005.wav         1\n",
              "...        ...       ...\n",
              "1607  1608.wav         5\n",
              "1608  1609.wav         5\n",
              "1609  1610.wav         5\n",
              "1610  1611.wav         5\n",
              "1611  1612.wav         5\n",
              "\n",
              "[1612 rows x 2 columns]"
            ],
            "text/html": [
              "\n",
              "  <div id=\"df-7c81e7ad-1f8d-4fa2-aba8-8b1e22c7d0eb\" class=\"colab-df-container\">\n",
              "    <div>\n",
              "<style scoped>\n",
              "    .dataframe tbody tr th:only-of-type {\n",
              "        vertical-align: middle;\n",
              "    }\n",
              "\n",
              "    .dataframe tbody tr th {\n",
              "        vertical-align: top;\n",
              "    }\n",
              "\n",
              "    .dataframe thead th {\n",
              "        text-align: right;\n",
              "    }\n",
              "</style>\n",
              "<table border=\"1\" class=\"dataframe\">\n",
              "  <thead>\n",
              "    <tr style=\"text-align: right;\">\n",
              "      <th></th>\n",
              "      <th>filenames</th>\n",
              "      <th>class_id</th>\n",
              "    </tr>\n",
              "  </thead>\n",
              "  <tbody>\n",
              "    <tr>\n",
              "      <th>0</th>\n",
              "      <td>0001.wav</td>\n",
              "      <td>1</td>\n",
              "    </tr>\n",
              "    <tr>\n",
              "      <th>1</th>\n",
              "      <td>0002.wav</td>\n",
              "      <td>1</td>\n",
              "    </tr>\n",
              "    <tr>\n",
              "      <th>2</th>\n",
              "      <td>0003.wav</td>\n",
              "      <td>1</td>\n",
              "    </tr>\n",
              "    <tr>\n",
              "      <th>3</th>\n",
              "      <td>0004.wav</td>\n",
              "      <td>1</td>\n",
              "    </tr>\n",
              "    <tr>\n",
              "      <th>4</th>\n",
              "      <td>0005.wav</td>\n",
              "      <td>1</td>\n",
              "    </tr>\n",
              "    <tr>\n",
              "      <th>...</th>\n",
              "      <td>...</td>\n",
              "      <td>...</td>\n",
              "    </tr>\n",
              "    <tr>\n",
              "      <th>1607</th>\n",
              "      <td>1608.wav</td>\n",
              "      <td>5</td>\n",
              "    </tr>\n",
              "    <tr>\n",
              "      <th>1608</th>\n",
              "      <td>1609.wav</td>\n",
              "      <td>5</td>\n",
              "    </tr>\n",
              "    <tr>\n",
              "      <th>1609</th>\n",
              "      <td>1610.wav</td>\n",
              "      <td>5</td>\n",
              "    </tr>\n",
              "    <tr>\n",
              "      <th>1610</th>\n",
              "      <td>1611.wav</td>\n",
              "      <td>5</td>\n",
              "    </tr>\n",
              "    <tr>\n",
              "      <th>1611</th>\n",
              "      <td>1612.wav</td>\n",
              "      <td>5</td>\n",
              "    </tr>\n",
              "  </tbody>\n",
              "</table>\n",
              "<p>1612 rows × 2 columns</p>\n",
              "</div>\n",
              "    <div class=\"colab-df-buttons\">\n",
              "\n",
              "  <div class=\"colab-df-container\">\n",
              "    <button class=\"colab-df-convert\" onclick=\"convertToInteractive('df-7c81e7ad-1f8d-4fa2-aba8-8b1e22c7d0eb')\"\n",
              "            title=\"Convert this dataframe to an interactive table.\"\n",
              "            style=\"display:none;\">\n",
              "\n",
              "  <svg xmlns=\"http://www.w3.org/2000/svg\" height=\"24px\" viewBox=\"0 -960 960 960\">\n",
              "    <path d=\"M120-120v-720h720v720H120Zm60-500h600v-160H180v160Zm220 220h160v-160H400v160Zm0 220h160v-160H400v160ZM180-400h160v-160H180v160Zm440 0h160v-160H620v160ZM180-180h160v-160H180v160Zm440 0h160v-160H620v160Z\"/>\n",
              "  </svg>\n",
              "    </button>\n",
              "\n",
              "  <style>\n",
              "    .colab-df-container {\n",
              "      display:flex;\n",
              "      gap: 12px;\n",
              "    }\n",
              "\n",
              "    .colab-df-convert {\n",
              "      background-color: #E8F0FE;\n",
              "      border: none;\n",
              "      border-radius: 50%;\n",
              "      cursor: pointer;\n",
              "      display: none;\n",
              "      fill: #1967D2;\n",
              "      height: 32px;\n",
              "      padding: 0 0 0 0;\n",
              "      width: 32px;\n",
              "    }\n",
              "\n",
              "    .colab-df-convert:hover {\n",
              "      background-color: #E2EBFA;\n",
              "      box-shadow: 0px 1px 2px rgba(60, 64, 67, 0.3), 0px 1px 3px 1px rgba(60, 64, 67, 0.15);\n",
              "      fill: #174EA6;\n",
              "    }\n",
              "\n",
              "    .colab-df-buttons div {\n",
              "      margin-bottom: 4px;\n",
              "    }\n",
              "\n",
              "    [theme=dark] .colab-df-convert {\n",
              "      background-color: #3B4455;\n",
              "      fill: #D2E3FC;\n",
              "    }\n",
              "\n",
              "    [theme=dark] .colab-df-convert:hover {\n",
              "      background-color: #434B5C;\n",
              "      box-shadow: 0px 1px 3px 1px rgba(0, 0, 0, 0.15);\n",
              "      filter: drop-shadow(0px 1px 2px rgba(0, 0, 0, 0.3));\n",
              "      fill: #FFFFFF;\n",
              "    }\n",
              "  </style>\n",
              "\n",
              "    <script>\n",
              "      const buttonEl =\n",
              "        document.querySelector('#df-7c81e7ad-1f8d-4fa2-aba8-8b1e22c7d0eb button.colab-df-convert');\n",
              "      buttonEl.style.display =\n",
              "        google.colab.kernel.accessAllowed ? 'block' : 'none';\n",
              "\n",
              "      async function convertToInteractive(key) {\n",
              "        const element = document.querySelector('#df-7c81e7ad-1f8d-4fa2-aba8-8b1e22c7d0eb');\n",
              "        const dataTable =\n",
              "          await google.colab.kernel.invokeFunction('convertToInteractive',\n",
              "                                                    [key], {});\n",
              "        if (!dataTable) return;\n",
              "\n",
              "        const docLinkHtml = 'Like what you see? Visit the ' +\n",
              "          '<a target=\"_blank\" href=https://colab.research.google.com/notebooks/data_table.ipynb>data table notebook</a>'\n",
              "          + ' to learn more about interactive tables.';\n",
              "        element.innerHTML = '';\n",
              "        dataTable['output_type'] = 'display_data';\n",
              "        await google.colab.output.renderOutput(dataTable, element);\n",
              "        const docLink = document.createElement('div');\n",
              "        docLink.innerHTML = docLinkHtml;\n",
              "        element.appendChild(docLink);\n",
              "      }\n",
              "    </script>\n",
              "  </div>\n",
              "\n",
              "\n",
              "<div id=\"df-977243c3-bccc-4655-a7b6-e765c62fb7a1\">\n",
              "  <button class=\"colab-df-quickchart\" onclick=\"quickchart('df-977243c3-bccc-4655-a7b6-e765c62fb7a1')\"\n",
              "            title=\"Suggest charts\"\n",
              "            style=\"display:none;\">\n",
              "\n",
              "<svg xmlns=\"http://www.w3.org/2000/svg\" height=\"24px\"viewBox=\"0 0 24 24\"\n",
              "     width=\"24px\">\n",
              "    <g>\n",
              "        <path d=\"M19 3H5c-1.1 0-2 .9-2 2v14c0 1.1.9 2 2 2h14c1.1 0 2-.9 2-2V5c0-1.1-.9-2-2-2zM9 17H7v-7h2v7zm4 0h-2V7h2v10zm4 0h-2v-4h2v4z\"/>\n",
              "    </g>\n",
              "</svg>\n",
              "  </button>\n",
              "\n",
              "<style>\n",
              "  .colab-df-quickchart {\n",
              "      --bg-color: #E8F0FE;\n",
              "      --fill-color: #1967D2;\n",
              "      --hover-bg-color: #E2EBFA;\n",
              "      --hover-fill-color: #174EA6;\n",
              "      --disabled-fill-color: #AAA;\n",
              "      --disabled-bg-color: #DDD;\n",
              "  }\n",
              "\n",
              "  [theme=dark] .colab-df-quickchart {\n",
              "      --bg-color: #3B4455;\n",
              "      --fill-color: #D2E3FC;\n",
              "      --hover-bg-color: #434B5C;\n",
              "      --hover-fill-color: #FFFFFF;\n",
              "      --disabled-bg-color: #3B4455;\n",
              "      --disabled-fill-color: #666;\n",
              "  }\n",
              "\n",
              "  .colab-df-quickchart {\n",
              "    background-color: var(--bg-color);\n",
              "    border: none;\n",
              "    border-radius: 50%;\n",
              "    cursor: pointer;\n",
              "    display: none;\n",
              "    fill: var(--fill-color);\n",
              "    height: 32px;\n",
              "    padding: 0;\n",
              "    width: 32px;\n",
              "  }\n",
              "\n",
              "  .colab-df-quickchart:hover {\n",
              "    background-color: var(--hover-bg-color);\n",
              "    box-shadow: 0 1px 2px rgba(60, 64, 67, 0.3), 0 1px 3px 1px rgba(60, 64, 67, 0.15);\n",
              "    fill: var(--button-hover-fill-color);\n",
              "  }\n",
              "\n",
              "  .colab-df-quickchart-complete:disabled,\n",
              "  .colab-df-quickchart-complete:disabled:hover {\n",
              "    background-color: var(--disabled-bg-color);\n",
              "    fill: var(--disabled-fill-color);\n",
              "    box-shadow: none;\n",
              "  }\n",
              "\n",
              "  .colab-df-spinner {\n",
              "    border: 2px solid var(--fill-color);\n",
              "    border-color: transparent;\n",
              "    border-bottom-color: var(--fill-color);\n",
              "    animation:\n",
              "      spin 1s steps(1) infinite;\n",
              "  }\n",
              "\n",
              "  @keyframes spin {\n",
              "    0% {\n",
              "      border-color: transparent;\n",
              "      border-bottom-color: var(--fill-color);\n",
              "      border-left-color: var(--fill-color);\n",
              "    }\n",
              "    20% {\n",
              "      border-color: transparent;\n",
              "      border-left-color: var(--fill-color);\n",
              "      border-top-color: var(--fill-color);\n",
              "    }\n",
              "    30% {\n",
              "      border-color: transparent;\n",
              "      border-left-color: var(--fill-color);\n",
              "      border-top-color: var(--fill-color);\n",
              "      border-right-color: var(--fill-color);\n",
              "    }\n",
              "    40% {\n",
              "      border-color: transparent;\n",
              "      border-right-color: var(--fill-color);\n",
              "      border-top-color: var(--fill-color);\n",
              "    }\n",
              "    60% {\n",
              "      border-color: transparent;\n",
              "      border-right-color: var(--fill-color);\n",
              "    }\n",
              "    80% {\n",
              "      border-color: transparent;\n",
              "      border-right-color: var(--fill-color);\n",
              "      border-bottom-color: var(--fill-color);\n",
              "    }\n",
              "    90% {\n",
              "      border-color: transparent;\n",
              "      border-bottom-color: var(--fill-color);\n",
              "    }\n",
              "  }\n",
              "</style>\n",
              "\n",
              "  <script>\n",
              "    async function quickchart(key) {\n",
              "      const quickchartButtonEl =\n",
              "        document.querySelector('#' + key + ' button');\n",
              "      quickchartButtonEl.disabled = true;  // To prevent multiple clicks.\n",
              "      quickchartButtonEl.classList.add('colab-df-spinner');\n",
              "      try {\n",
              "        const charts = await google.colab.kernel.invokeFunction(\n",
              "            'suggestCharts', [key], {});\n",
              "      } catch (error) {\n",
              "        console.error('Error during call to suggestCharts:', error);\n",
              "      }\n",
              "      quickchartButtonEl.classList.remove('colab-df-spinner');\n",
              "      quickchartButtonEl.classList.add('colab-df-quickchart-complete');\n",
              "    }\n",
              "    (() => {\n",
              "      let quickchartButtonEl =\n",
              "        document.querySelector('#df-977243c3-bccc-4655-a7b6-e765c62fb7a1 button');\n",
              "      quickchartButtonEl.style.display =\n",
              "        google.colab.kernel.accessAllowed ? 'block' : 'none';\n",
              "    })();\n",
              "  </script>\n",
              "</div>\n",
              "\n",
              "  <div id=\"id_7e785104-09c6-4490-bbd5-9a8bdbf4145a\">\n",
              "    <style>\n",
              "      .colab-df-generate {\n",
              "        background-color: #E8F0FE;\n",
              "        border: none;\n",
              "        border-radius: 50%;\n",
              "        cursor: pointer;\n",
              "        display: none;\n",
              "        fill: #1967D2;\n",
              "        height: 32px;\n",
              "        padding: 0 0 0 0;\n",
              "        width: 32px;\n",
              "      }\n",
              "\n",
              "      .colab-df-generate:hover {\n",
              "        background-color: #E2EBFA;\n",
              "        box-shadow: 0px 1px 2px rgba(60, 64, 67, 0.3), 0px 1px 3px 1px rgba(60, 64, 67, 0.15);\n",
              "        fill: #174EA6;\n",
              "      }\n",
              "\n",
              "      [theme=dark] .colab-df-generate {\n",
              "        background-color: #3B4455;\n",
              "        fill: #D2E3FC;\n",
              "      }\n",
              "\n",
              "      [theme=dark] .colab-df-generate:hover {\n",
              "        background-color: #434B5C;\n",
              "        box-shadow: 0px 1px 3px 1px rgba(0, 0, 0, 0.15);\n",
              "        filter: drop-shadow(0px 1px 2px rgba(0, 0, 0, 0.3));\n",
              "        fill: #FFFFFF;\n",
              "      }\n",
              "    </style>\n",
              "    <button class=\"colab-df-generate\" onclick=\"generateWithVariable('labels')\"\n",
              "            title=\"Generate code using this dataframe.\"\n",
              "            style=\"display:none;\">\n",
              "\n",
              "  <svg xmlns=\"http://www.w3.org/2000/svg\" height=\"24px\"viewBox=\"0 0 24 24\"\n",
              "       width=\"24px\">\n",
              "    <path d=\"M7,19H8.4L18.45,9,17,7.55,7,17.6ZM5,21V16.75L18.45,3.32a2,2,0,0,1,2.83,0l1.4,1.43a1.91,1.91,0,0,1,.58,1.4,1.91,1.91,0,0,1-.58,1.4L9.25,21ZM18.45,9,17,7.55Zm-12,3A5.31,5.31,0,0,0,4.9,8.1,5.31,5.31,0,0,0,1,6.5,5.31,5.31,0,0,0,4.9,4.9,5.31,5.31,0,0,0,6.5,1,5.31,5.31,0,0,0,8.1,4.9,5.31,5.31,0,0,0,12,6.5,5.46,5.46,0,0,0,6.5,12Z\"/>\n",
              "  </svg>\n",
              "    </button>\n",
              "    <script>\n",
              "      (() => {\n",
              "      const buttonEl =\n",
              "        document.querySelector('#id_7e785104-09c6-4490-bbd5-9a8bdbf4145a button.colab-df-generate');\n",
              "      buttonEl.style.display =\n",
              "        google.colab.kernel.accessAllowed ? 'block' : 'none';\n",
              "\n",
              "      buttonEl.onclick = () => {\n",
              "        google.colab.notebook.generateWithVariable('labels');\n",
              "      }\n",
              "      })();\n",
              "    </script>\n",
              "  </div>\n",
              "\n",
              "    </div>\n",
              "  </div>\n"
            ],
            "application/vnd.google.colaboratory.intrinsic+json": {
              "type": "dataframe",
              "variable_name": "labels",
              "summary": "{\n  \"name\": \"labels\",\n  \"rows\": 1612,\n  \"fields\": [\n    {\n      \"column\": \"filenames\",\n      \"properties\": {\n        \"dtype\": \"string\",\n        \"num_unique_values\": 1612,\n        \"samples\": [\n          \"0030.wav\",\n          \"0260.wav\",\n          \"0384.wav\"\n        ],\n        \"semantic_type\": \"\",\n        \"description\": \"\"\n      }\n    },\n    {\n      \"column\": \"class_id\",\n      \"properties\": {\n        \"dtype\": \"number\",\n        \"std\": 1,\n        \"min\": 1,\n        \"max\": 6,\n        \"num_unique_values\": 6,\n        \"samples\": [\n          1,\n          2,\n          6\n        ],\n        \"semantic_type\": \"\",\n        \"description\": \"\"\n      }\n    }\n  ]\n}"
            }
          },
          "metadata": {},
          "execution_count": 11
        }
      ],
      "source": [
        "labels"
      ]
    },
    {
      "cell_type": "markdown",
      "metadata": {
        "id": "ELPaoset0bJi"
      },
      "source": [
        "# Feature Extraction"
      ]
    },
    {
      "cell_type": "markdown",
      "metadata": {
        "id": "0etZmUmD6Gm-"
      },
      "source": [
        "**Extracting MFCC features**"
      ]
    },
    {
      "cell_type": "code",
      "execution_count": null,
      "metadata": {
        "id": "8j0QWORQ0SZe"
      },
      "outputs": [],
      "source": [
        "def MFCC_features(file_name):\n",
        "  audio, sample_rate = librosa.load(dataset + '/' + file_name)\n",
        "\n",
        "  desired_length = 661500\n",
        "\n",
        "  if len(audio) < desired_length:\n",
        "    audio = np.pad(audio, (0, desired_length - len(audio)), mode = 'constant')\n",
        "\n",
        "  MFCC = librosa.feature.mfcc(y = audio, sr = sample_rate, n_mfcc = 13)\n",
        "  MFCC_scaled = np.mean(MFCC.T, axis = 0)\n",
        "\n",
        "  return MFCC_scaled"
      ]
    },
    {
      "cell_type": "code",
      "execution_count": null,
      "metadata": {
        "id": "mLv0pkJF0h4a"
      },
      "outputs": [],
      "source": [
        "# Create a numpy matrix to store the mfcc vectors\n",
        "X = np.zeros([1612, 13])\n",
        "# A vector to store the output labels\n",
        "Y = np.zeros(len(labels))"
      ]
    },
    {
      "cell_type": "code",
      "execution_count": null,
      "metadata": {
        "colab": {
          "base_uri": "https://localhost:8080/"
        },
        "id": "BZ0x9tZh2dGq",
        "outputId": "8fc77256-a5d9-4c80-bdd3-978524e408ae"
      },
      "outputs": [
        {
          "output_type": "stream",
          "name": "stderr",
          "text": [
            "1612it [02:55,  9.21it/s]\n"
          ]
        }
      ],
      "source": [
        "# Extract the features\n",
        "for index, rows in tqdm(labels.iterrows()):\n",
        "  file_name = rows['filenames']\n",
        "  class_id = rows['class_id']\n",
        "\n",
        "  MFCC = MFCC_features(file_name)\n",
        "  X[index] = MFCC\n",
        "  Y[index] = class_id"
      ]
    },
    {
      "cell_type": "code",
      "execution_count": null,
      "metadata": {
        "id": "JStIVnhgk2VK",
        "colab": {
          "base_uri": "https://localhost:8080/"
        },
        "outputId": "c97d9bee-4a46-4249-b415-f04800ec05eb"
      },
      "outputs": [
        {
          "output_type": "execute_result",
          "data": {
            "text/plain": [
              "(1612, 13)"
            ]
          },
          "metadata": {},
          "execution_count": 15
        }
      ],
      "source": [
        "X.shape"
      ]
    },
    {
      "cell_type": "code",
      "source": [
        "# Transform the output labels from range (1 - 6) to (0 - 5)\n",
        "y_transform = Y - 1"
      ],
      "metadata": {
        "id": "uI0SuPSx4WAT"
      },
      "execution_count": null,
      "outputs": []
    },
    {
      "cell_type": "markdown",
      "metadata": {
        "id": "vohRp7Ke7UP5"
      },
      "source": [
        "# CLASSIFICATION"
      ]
    },
    {
      "cell_type": "code",
      "execution_count": null,
      "metadata": {
        "id": "ZBdAVJ9h7tuJ"
      },
      "outputs": [],
      "source": [
        "# Import the depencies\n",
        "import tensorflow as tf\n",
        "from tensorflow import keras\n",
        "from sklearn.model_selection import train_test_split"
      ]
    },
    {
      "cell_type": "code",
      "execution_count": null,
      "metadata": {
        "id": "Zb0PeZLA37Hd"
      },
      "outputs": [],
      "source": [
        "# Perform the train test split\n",
        "x_train, x_test, y_train, y_test = train_test_split(X, y_transform, test_size = 0.20)"
      ]
    },
    {
      "cell_type": "code",
      "source": [],
      "metadata": {
        "id": "C9-pSUvw4EqJ"
      },
      "execution_count": null,
      "outputs": []
    },
    {
      "cell_type": "code",
      "execution_count": null,
      "metadata": {
        "colab": {
          "base_uri": "https://localhost:8080/"
        },
        "id": "Lqxlt221b-wm",
        "outputId": "6627b21b-267f-4134-d47d-319440529f95"
      },
      "outputs": [
        {
          "output_type": "execute_result",
          "data": {
            "text/plain": [
              "(1289, 13)"
            ]
          },
          "metadata": {},
          "execution_count": 19
        }
      ],
      "source": [
        "x_train.shape"
      ]
    },
    {
      "cell_type": "code",
      "execution_count": null,
      "metadata": {
        "colab": {
          "base_uri": "https://localhost:8080/"
        },
        "id": "mPgrxipkhjqq",
        "outputId": "2cdc0738-6116-40c7-ee4c-e4fa243d51ea"
      },
      "outputs": [
        {
          "output_type": "execute_result",
          "data": {
            "text/plain": [
              "(1289,)"
            ]
          },
          "metadata": {},
          "execution_count": 20
        }
      ],
      "source": [
        "y_train.shape"
      ]
    },
    {
      "cell_type": "code",
      "execution_count": null,
      "metadata": {
        "colab": {
          "base_uri": "https://localhost:8080/"
        },
        "id": "gMUAurQdDvg5",
        "outputId": "790201dd-c48c-420f-c287-7d9841d732df"
      },
      "outputs": [
        {
          "output_type": "execute_result",
          "data": {
            "text/plain": [
              "array([-3.77247681e+02,  1.67994201e+00, -1.04700584e+01, -5.24070621e-01,\n",
              "        7.72588062e+00,  1.17524347e+01, -3.31129223e-01, -8.42742324e-01,\n",
              "        1.90315700e+00,  1.01613941e+01,  1.12753177e+00, -2.53947973e+00,\n",
              "       -5.83370638e+00])"
            ]
          },
          "metadata": {},
          "execution_count": 21
        }
      ],
      "source": [
        "x_train[0]"
      ]
    },
    {
      "cell_type": "markdown",
      "metadata": {
        "id": "JdblpWAl8oU2"
      },
      "source": [
        "# Building Model\n"
      ]
    },
    {
      "cell_type": "markdown",
      "metadata": {
        "id": "bICgAYN48tIx"
      },
      "source": [
        "**Build model**\n"
      ]
    },
    {
      "cell_type": "code",
      "execution_count": null,
      "metadata": {
        "id": "wOShGUTL7TXr"
      },
      "outputs": [],
      "source": [
        "\n",
        "#   create model\n",
        "model = keras.Sequential()\n",
        "\n",
        "#   2 LSTM layers\n",
        "model.add(keras.layers.LSTM(128, input_shape = (13, 1), return_sequences = \"True\"))\n",
        "model.add(keras.layers.LSTM(64))\n",
        "\n",
        "#   Dense layer\n",
        "model.add(keras.layers.Dense(64, activation = \"tanh\"))\n",
        "model.add(keras.layers.Dropout(0.3))\n",
        "\n",
        "#   output layer\n",
        "model.add(keras.layers.Dense(6, activation = \"softmax\"))\n",
        "\n"
      ]
    },
    {
      "cell_type": "code",
      "execution_count": null,
      "metadata": {
        "id": "I6GmUAEK5xL6"
      },
      "outputs": [],
      "source": [
        "model.compile(\n",
        "    optimizer = 'Adam',\n",
        "    loss = 'sparse_categorical_crossentropy',\n",
        "    metrics = ['accuracy']\n",
        ")"
      ]
    },
    {
      "cell_type": "code",
      "execution_count": null,
      "metadata": {
        "colab": {
          "base_uri": "https://localhost:8080/"
        },
        "id": "vFb8U8cZ-uNN",
        "outputId": "3a935850-886c-4626-8f34-23ecb246540d"
      },
      "outputs": [
        {
          "output_type": "stream",
          "name": "stdout",
          "text": [
            "Model: \"sequential\"\n",
            "_________________________________________________________________\n",
            " Layer (type)                Output Shape              Param #   \n",
            "=================================================================\n",
            " lstm (LSTM)                 (None, 13, 128)           66560     \n",
            "                                                                 \n",
            " lstm_1 (LSTM)               (None, 64)                49408     \n",
            "                                                                 \n",
            " dense (Dense)               (None, 64)                4160      \n",
            "                                                                 \n",
            " dropout (Dropout)           (None, 64)                0         \n",
            "                                                                 \n",
            " dense_1 (Dense)             (None, 6)                 390       \n",
            "                                                                 \n",
            "=================================================================\n",
            "Total params: 120518 (470.77 KB)\n",
            "Trainable params: 120518 (470.77 KB)\n",
            "Non-trainable params: 0 (0.00 Byte)\n",
            "_________________________________________________________________\n"
          ]
        }
      ],
      "source": [
        "model.summary()"
      ]
    },
    {
      "cell_type": "code",
      "execution_count": null,
      "metadata": {
        "id": "Wx3XBzPZ-YRF",
        "colab": {
          "base_uri": "https://localhost:8080/"
        },
        "outputId": "a8703183-5091-467d-b1b9-1fbaf853c290"
      },
      "outputs": [
        {
          "output_type": "stream",
          "name": "stdout",
          "text": [
            "Epoch 1/100\n",
            "41/41 [==============================] - 7s 27ms/step - loss: 1.5365 - accuracy: 0.4057 - val_loss: 1.3296 - val_accuracy: 0.4985\n",
            "Epoch 2/100\n",
            "41/41 [==============================] - 0s 8ms/step - loss: 1.2940 - accuracy: 0.5260 - val_loss: 1.2077 - val_accuracy: 0.5449\n",
            "Epoch 3/100\n",
            "41/41 [==============================] - 0s 8ms/step - loss: 1.1928 - accuracy: 0.5593 - val_loss: 1.1284 - val_accuracy: 0.5480\n",
            "Epoch 4/100\n",
            "41/41 [==============================] - 0s 10ms/step - loss: 1.0812 - accuracy: 0.6059 - val_loss: 1.0119 - val_accuracy: 0.6409\n",
            "Epoch 5/100\n",
            "41/41 [==============================] - 0s 10ms/step - loss: 0.9723 - accuracy: 0.6509 - val_loss: 0.9328 - val_accuracy: 0.6780\n",
            "Epoch 6/100\n",
            "41/41 [==============================] - 0s 11ms/step - loss: 0.8967 - accuracy: 0.6843 - val_loss: 0.8053 - val_accuracy: 0.7245\n",
            "Epoch 7/100\n",
            "41/41 [==============================] - 0s 10ms/step - loss: 0.8210 - accuracy: 0.7145 - val_loss: 0.7891 - val_accuracy: 0.7028\n",
            "Epoch 8/100\n",
            "41/41 [==============================] - 0s 10ms/step - loss: 0.7396 - accuracy: 0.7386 - val_loss: 0.6696 - val_accuracy: 0.7554\n",
            "Epoch 9/100\n",
            "41/41 [==============================] - 0s 10ms/step - loss: 0.6339 - accuracy: 0.7874 - val_loss: 0.6065 - val_accuracy: 0.7802\n",
            "Epoch 10/100\n",
            "41/41 [==============================] - 0s 11ms/step - loss: 0.5795 - accuracy: 0.8084 - val_loss: 0.5000 - val_accuracy: 0.8080\n",
            "Epoch 11/100\n",
            "41/41 [==============================] - 0s 10ms/step - loss: 0.4986 - accuracy: 0.8278 - val_loss: 0.4908 - val_accuracy: 0.8328\n",
            "Epoch 12/100\n",
            "41/41 [==============================] - 1s 13ms/step - loss: 0.4592 - accuracy: 0.8456 - val_loss: 0.4409 - val_accuracy: 0.8452\n",
            "Epoch 13/100\n",
            "41/41 [==============================] - 0s 9ms/step - loss: 0.4205 - accuracy: 0.8573 - val_loss: 0.4232 - val_accuracy: 0.8204\n",
            "Epoch 14/100\n",
            "41/41 [==============================] - 0s 8ms/step - loss: 0.4140 - accuracy: 0.8604 - val_loss: 0.3618 - val_accuracy: 0.8545\n",
            "Epoch 15/100\n",
            "41/41 [==============================] - 0s 8ms/step - loss: 0.3352 - accuracy: 0.8875 - val_loss: 0.3096 - val_accuracy: 0.8824\n",
            "Epoch 16/100\n",
            "41/41 [==============================] - 0s 7ms/step - loss: 0.2895 - accuracy: 0.9015 - val_loss: 0.2846 - val_accuracy: 0.8885\n",
            "Epoch 17/100\n",
            "41/41 [==============================] - 0s 7ms/step - loss: 0.2997 - accuracy: 0.9022 - val_loss: 0.2560 - val_accuracy: 0.8916\n",
            "Epoch 18/100\n",
            "41/41 [==============================] - 0s 8ms/step - loss: 0.2206 - accuracy: 0.9201 - val_loss: 0.2870 - val_accuracy: 0.8978\n",
            "Epoch 19/100\n",
            "41/41 [==============================] - 0s 7ms/step - loss: 0.2077 - accuracy: 0.9279 - val_loss: 0.2421 - val_accuracy: 0.9071\n",
            "Epoch 20/100\n",
            "41/41 [==============================] - 0s 7ms/step - loss: 0.2057 - accuracy: 0.9325 - val_loss: 0.2419 - val_accuracy: 0.9195\n",
            "Epoch 21/100\n",
            "41/41 [==============================] - 0s 8ms/step - loss: 0.1931 - accuracy: 0.9364 - val_loss: 0.2170 - val_accuracy: 0.9226\n",
            "Epoch 22/100\n",
            "41/41 [==============================] - 0s 7ms/step - loss: 0.1667 - accuracy: 0.9434 - val_loss: 0.2256 - val_accuracy: 0.9195\n",
            "Epoch 23/100\n",
            "41/41 [==============================] - 0s 7ms/step - loss: 0.1607 - accuracy: 0.9410 - val_loss: 0.2067 - val_accuracy: 0.9412\n",
            "Epoch 24/100\n",
            "41/41 [==============================] - 0s 8ms/step - loss: 0.1348 - accuracy: 0.9589 - val_loss: 0.1628 - val_accuracy: 0.9505\n",
            "Epoch 25/100\n",
            "41/41 [==============================] - 0s 8ms/step - loss: 0.1427 - accuracy: 0.9449 - val_loss: 0.2461 - val_accuracy: 0.9071\n",
            "Epoch 26/100\n",
            "41/41 [==============================] - 0s 8ms/step - loss: 0.1313 - accuracy: 0.9558 - val_loss: 0.2092 - val_accuracy: 0.9226\n",
            "Epoch 27/100\n",
            "41/41 [==============================] - 0s 8ms/step - loss: 0.1143 - accuracy: 0.9635 - val_loss: 0.1781 - val_accuracy: 0.9536\n",
            "Epoch 28/100\n",
            "41/41 [==============================] - 0s 7ms/step - loss: 0.1026 - accuracy: 0.9674 - val_loss: 0.1506 - val_accuracy: 0.9567\n",
            "Epoch 29/100\n",
            "41/41 [==============================] - 0s 7ms/step - loss: 0.0836 - accuracy: 0.9721 - val_loss: 0.2057 - val_accuracy: 0.9536\n",
            "Epoch 30/100\n",
            "41/41 [==============================] - 0s 8ms/step - loss: 0.1274 - accuracy: 0.9527 - val_loss: 0.2569 - val_accuracy: 0.9226\n",
            "Epoch 31/100\n",
            "41/41 [==============================] - 0s 8ms/step - loss: 0.1423 - accuracy: 0.9496 - val_loss: 0.1692 - val_accuracy: 0.9598\n",
            "Epoch 32/100\n",
            "41/41 [==============================] - 0s 8ms/step - loss: 0.0853 - accuracy: 0.9674 - val_loss: 0.1893 - val_accuracy: 0.9412\n",
            "Epoch 33/100\n",
            "41/41 [==============================] - 0s 8ms/step - loss: 0.1283 - accuracy: 0.9496 - val_loss: 0.1907 - val_accuracy: 0.9474\n",
            "Epoch 34/100\n",
            "41/41 [==============================] - 0s 8ms/step - loss: 0.1421 - accuracy: 0.9573 - val_loss: 0.1442 - val_accuracy: 0.9567\n",
            "Epoch 35/100\n",
            "41/41 [==============================] - 0s 7ms/step - loss: 0.0706 - accuracy: 0.9736 - val_loss: 0.1341 - val_accuracy: 0.9628\n",
            "Epoch 36/100\n",
            "41/41 [==============================] - 0s 7ms/step - loss: 0.0573 - accuracy: 0.9845 - val_loss: 0.1457 - val_accuracy: 0.9628\n",
            "Epoch 37/100\n",
            "41/41 [==============================] - 0s 8ms/step - loss: 0.0401 - accuracy: 0.9876 - val_loss: 0.1310 - val_accuracy: 0.9598\n",
            "Epoch 38/100\n",
            "41/41 [==============================] - 0s 7ms/step - loss: 0.0415 - accuracy: 0.9868 - val_loss: 0.1205 - val_accuracy: 0.9628\n",
            "Epoch 39/100\n",
            "41/41 [==============================] - 0s 7ms/step - loss: 0.0535 - accuracy: 0.9767 - val_loss: 0.1245 - val_accuracy: 0.9690\n",
            "Epoch 40/100\n",
            "41/41 [==============================] - 0s 8ms/step - loss: 0.0509 - accuracy: 0.9806 - val_loss: 0.1240 - val_accuracy: 0.9721\n",
            "Epoch 41/100\n",
            "41/41 [==============================] - 0s 8ms/step - loss: 0.0427 - accuracy: 0.9884 - val_loss: 0.1294 - val_accuracy: 0.9721\n",
            "Epoch 42/100\n",
            "41/41 [==============================] - 0s 7ms/step - loss: 0.0322 - accuracy: 0.9907 - val_loss: 0.1353 - val_accuracy: 0.9659\n",
            "Epoch 43/100\n",
            "41/41 [==============================] - 0s 8ms/step - loss: 0.0917 - accuracy: 0.9697 - val_loss: 0.2211 - val_accuracy: 0.9628\n",
            "Epoch 44/100\n",
            "41/41 [==============================] - 0s 7ms/step - loss: 0.1163 - accuracy: 0.9612 - val_loss: 0.1428 - val_accuracy: 0.9536\n",
            "Epoch 45/100\n",
            "41/41 [==============================] - 0s 10ms/step - loss: 0.0599 - accuracy: 0.9814 - val_loss: 0.1146 - val_accuracy: 0.9659\n",
            "Epoch 46/100\n",
            "41/41 [==============================] - 0s 10ms/step - loss: 0.0823 - accuracy: 0.9775 - val_loss: 0.1561 - val_accuracy: 0.9536\n",
            "Epoch 47/100\n",
            "41/41 [==============================] - 0s 11ms/step - loss: 0.1036 - accuracy: 0.9620 - val_loss: 0.1496 - val_accuracy: 0.9474\n",
            "Epoch 48/100\n",
            "41/41 [==============================] - 0s 10ms/step - loss: 0.0626 - accuracy: 0.9767 - val_loss: 0.1440 - val_accuracy: 0.9567\n",
            "Epoch 49/100\n",
            "41/41 [==============================] - 0s 10ms/step - loss: 0.0403 - accuracy: 0.9891 - val_loss: 0.1067 - val_accuracy: 0.9690\n",
            "Epoch 50/100\n",
            "41/41 [==============================] - 0s 11ms/step - loss: 0.0256 - accuracy: 0.9922 - val_loss: 0.1155 - val_accuracy: 0.9659\n",
            "Epoch 51/100\n",
            "41/41 [==============================] - 0s 10ms/step - loss: 0.0246 - accuracy: 0.9915 - val_loss: 0.1463 - val_accuracy: 0.9659\n",
            "Epoch 52/100\n",
            "41/41 [==============================] - 0s 11ms/step - loss: 0.0622 - accuracy: 0.9845 - val_loss: 0.1454 - val_accuracy: 0.9598\n",
            "Epoch 53/100\n",
            "41/41 [==============================] - 1s 13ms/step - loss: 0.0525 - accuracy: 0.9837 - val_loss: 0.1355 - val_accuracy: 0.9598\n",
            "Epoch 54/100\n",
            "41/41 [==============================] - 0s 8ms/step - loss: 0.0454 - accuracy: 0.9876 - val_loss: 0.1024 - val_accuracy: 0.9721\n",
            "Epoch 55/100\n",
            "41/41 [==============================] - 0s 8ms/step - loss: 0.0256 - accuracy: 0.9915 - val_loss: 0.0989 - val_accuracy: 0.9752\n",
            "Epoch 56/100\n",
            "41/41 [==============================] - 0s 7ms/step - loss: 0.0318 - accuracy: 0.9876 - val_loss: 0.1796 - val_accuracy: 0.9598\n",
            "Epoch 57/100\n",
            "41/41 [==============================] - 0s 7ms/step - loss: 0.0549 - accuracy: 0.9829 - val_loss: 0.1632 - val_accuracy: 0.9567\n",
            "Epoch 58/100\n",
            "41/41 [==============================] - 0s 7ms/step - loss: 0.0665 - accuracy: 0.9806 - val_loss: 0.2257 - val_accuracy: 0.9381\n",
            "Epoch 59/100\n",
            "41/41 [==============================] - 0s 8ms/step - loss: 0.1180 - accuracy: 0.9628 - val_loss: 0.2160 - val_accuracy: 0.9319\n",
            "Epoch 60/100\n",
            "41/41 [==============================] - 0s 8ms/step - loss: 0.0799 - accuracy: 0.9752 - val_loss: 0.1138 - val_accuracy: 0.9721\n",
            "Epoch 61/100\n",
            "41/41 [==============================] - 0s 7ms/step - loss: 0.0273 - accuracy: 0.9946 - val_loss: 0.1069 - val_accuracy: 0.9721\n",
            "Epoch 62/100\n",
            "41/41 [==============================] - 0s 8ms/step - loss: 0.0274 - accuracy: 0.9946 - val_loss: 0.1237 - val_accuracy: 0.9659\n",
            "Epoch 63/100\n",
            "41/41 [==============================] - 0s 7ms/step - loss: 0.0250 - accuracy: 0.9907 - val_loss: 0.1103 - val_accuracy: 0.9721\n",
            "Epoch 64/100\n",
            "41/41 [==============================] - 0s 7ms/step - loss: 0.0377 - accuracy: 0.9891 - val_loss: 0.1224 - val_accuracy: 0.9690\n",
            "Epoch 65/100\n",
            "41/41 [==============================] - 0s 8ms/step - loss: 0.0405 - accuracy: 0.9853 - val_loss: 0.1161 - val_accuracy: 0.9721\n",
            "Epoch 66/100\n",
            "41/41 [==============================] - 0s 7ms/step - loss: 0.0258 - accuracy: 0.9938 - val_loss: 0.1332 - val_accuracy: 0.9690\n",
            "Epoch 67/100\n",
            "41/41 [==============================] - 0s 8ms/step - loss: 0.0225 - accuracy: 0.9922 - val_loss: 0.1398 - val_accuracy: 0.9628\n",
            "Epoch 68/100\n",
            "41/41 [==============================] - 0s 9ms/step - loss: 0.0321 - accuracy: 0.9891 - val_loss: 0.1204 - val_accuracy: 0.9783\n",
            "Epoch 69/100\n",
            "41/41 [==============================] - 0s 7ms/step - loss: 0.0326 - accuracy: 0.9868 - val_loss: 0.1262 - val_accuracy: 0.9721\n",
            "Epoch 70/100\n",
            "41/41 [==============================] - 0s 7ms/step - loss: 0.0876 - accuracy: 0.9744 - val_loss: 0.1395 - val_accuracy: 0.9690\n",
            "Epoch 71/100\n",
            "41/41 [==============================] - 0s 8ms/step - loss: 0.0427 - accuracy: 0.9837 - val_loss: 0.1216 - val_accuracy: 0.9752\n",
            "Epoch 72/100\n",
            "41/41 [==============================] - 0s 7ms/step - loss: 0.0220 - accuracy: 0.9922 - val_loss: 0.1240 - val_accuracy: 0.9721\n",
            "Epoch 73/100\n",
            "41/41 [==============================] - 0s 7ms/step - loss: 0.0256 - accuracy: 0.9915 - val_loss: 0.1277 - val_accuracy: 0.9721\n",
            "Epoch 74/100\n",
            "41/41 [==============================] - 0s 7ms/step - loss: 0.0183 - accuracy: 0.9953 - val_loss: 0.1195 - val_accuracy: 0.9721\n",
            "Epoch 75/100\n",
            "41/41 [==============================] - 0s 8ms/step - loss: 0.0290 - accuracy: 0.9915 - val_loss: 0.1428 - val_accuracy: 0.9690\n",
            "Epoch 76/100\n",
            "41/41 [==============================] - 0s 7ms/step - loss: 0.0253 - accuracy: 0.9884 - val_loss: 0.1252 - val_accuracy: 0.9721\n",
            "Epoch 77/100\n",
            "41/41 [==============================] - 0s 7ms/step - loss: 0.0236 - accuracy: 0.9922 - val_loss: 0.1128 - val_accuracy: 0.9814\n",
            "Epoch 78/100\n",
            "41/41 [==============================] - 0s 8ms/step - loss: 0.0251 - accuracy: 0.9884 - val_loss: 0.1172 - val_accuracy: 0.9752\n",
            "Epoch 79/100\n",
            "41/41 [==============================] - 0s 7ms/step - loss: 0.0479 - accuracy: 0.9822 - val_loss: 0.1237 - val_accuracy: 0.9783\n",
            "Epoch 80/100\n",
            "41/41 [==============================] - 0s 7ms/step - loss: 0.0289 - accuracy: 0.9891 - val_loss: 0.1488 - val_accuracy: 0.9598\n",
            "Epoch 81/100\n",
            "41/41 [==============================] - 0s 8ms/step - loss: 0.0301 - accuracy: 0.9884 - val_loss: 0.1698 - val_accuracy: 0.9598\n",
            "Epoch 82/100\n",
            "41/41 [==============================] - 0s 7ms/step - loss: 0.0581 - accuracy: 0.9829 - val_loss: 0.1790 - val_accuracy: 0.9536\n",
            "Epoch 83/100\n",
            "41/41 [==============================] - 0s 7ms/step - loss: 0.0671 - accuracy: 0.9798 - val_loss: 0.1597 - val_accuracy: 0.9690\n",
            "Epoch 84/100\n",
            "41/41 [==============================] - 0s 8ms/step - loss: 0.0363 - accuracy: 0.9899 - val_loss: 0.1423 - val_accuracy: 0.9752\n",
            "Epoch 85/100\n",
            "41/41 [==============================] - 0s 8ms/step - loss: 0.0277 - accuracy: 0.9899 - val_loss: 0.1184 - val_accuracy: 0.9752\n",
            "Epoch 86/100\n",
            "41/41 [==============================] - 0s 10ms/step - loss: 0.0205 - accuracy: 0.9899 - val_loss: 0.1270 - val_accuracy: 0.9752\n",
            "Epoch 87/100\n",
            "41/41 [==============================] - 0s 11ms/step - loss: 0.0147 - accuracy: 0.9953 - val_loss: 0.1200 - val_accuracy: 0.9814\n",
            "Epoch 88/100\n",
            "41/41 [==============================] - 0s 10ms/step - loss: 0.0505 - accuracy: 0.9860 - val_loss: 0.3706 - val_accuracy: 0.9350\n",
            "Epoch 89/100\n",
            "41/41 [==============================] - 0s 10ms/step - loss: 0.0427 - accuracy: 0.9853 - val_loss: 0.1159 - val_accuracy: 0.9783\n",
            "Epoch 90/100\n",
            "41/41 [==============================] - 0s 10ms/step - loss: 0.0401 - accuracy: 0.9884 - val_loss: 0.1092 - val_accuracy: 0.9783\n",
            "Epoch 91/100\n",
            "41/41 [==============================] - 0s 12ms/step - loss: 0.1056 - accuracy: 0.9651 - val_loss: 0.1702 - val_accuracy: 0.9628\n",
            "Epoch 92/100\n",
            "41/41 [==============================] - 0s 11ms/step - loss: 0.0510 - accuracy: 0.9837 - val_loss: 0.0951 - val_accuracy: 0.9752\n",
            "Epoch 93/100\n",
            "41/41 [==============================] - 0s 10ms/step - loss: 0.0211 - accuracy: 0.9946 - val_loss: 0.1066 - val_accuracy: 0.9752\n",
            "Epoch 94/100\n",
            "41/41 [==============================] - 1s 13ms/step - loss: 0.0167 - accuracy: 0.9953 - val_loss: 0.1148 - val_accuracy: 0.9783\n",
            "Epoch 95/100\n",
            "41/41 [==============================] - 0s 11ms/step - loss: 0.0188 - accuracy: 0.9930 - val_loss: 0.1199 - val_accuracy: 0.9752\n",
            "Epoch 96/100\n",
            "41/41 [==============================] - 0s 8ms/step - loss: 0.0144 - accuracy: 0.9946 - val_loss: 0.1022 - val_accuracy: 0.9752\n",
            "Epoch 97/100\n",
            "41/41 [==============================] - 0s 8ms/step - loss: 0.0144 - accuracy: 0.9953 - val_loss: 0.1841 - val_accuracy: 0.9628\n",
            "Epoch 98/100\n",
            "41/41 [==============================] - 0s 7ms/step - loss: 0.0274 - accuracy: 0.9922 - val_loss: 0.1310 - val_accuracy: 0.9690\n",
            "Epoch 99/100\n",
            "41/41 [==============================] - 0s 8ms/step - loss: 0.0184 - accuracy: 0.9938 - val_loss: 0.1353 - val_accuracy: 0.9721\n",
            "Epoch 100/100\n",
            "41/41 [==============================] - 0s 8ms/step - loss: 0.0236 - accuracy: 0.9930 - val_loss: 0.1673 - val_accuracy: 0.9659\n"
          ]
        }
      ],
      "source": [
        "history = model.fit(x_train, y_train, validation_data = (x_test, y_test), epochs = 100)"
      ]
    },
    {
      "cell_type": "markdown",
      "source": [
        "**Saved Models**"
      ],
      "metadata": {
        "id": "UaG95pYWdegZ"
      }
    },
    {
      "cell_type": "code",
      "execution_count": null,
      "metadata": {
        "id": "L-1m--9I-yOX",
        "colab": {
          "base_uri": "https://localhost:8080/"
        },
        "outputId": "572fc9a2-d8e6-461a-80c4-429f924c684e"
      },
      "outputs": [
        {
          "output_type": "stream",
          "name": "stdout",
          "text": [
            "11/11 [==============================] - 0s 4ms/step - loss: 0.1673 - accuracy: 0.9659\n"
          ]
        }
      ],
      "source": [
        "estimator = model.evaluate(x_test, y_test)"
      ]
    },
    {
      "cell_type": "code",
      "execution_count": null,
      "metadata": {
        "id": "qmuvzY5NvjUP",
        "colab": {
          "base_uri": "https://localhost:8080/"
        },
        "outputId": "9bd84c05-0ce1-43a5-ced9-887091984de8"
      },
      "outputs": [
        {
          "output_type": "stream",
          "name": "stdout",
          "text": [
            "41/41 [==============================] - 1s 3ms/step\n"
          ]
        },
        {
          "output_type": "execute_result",
          "data": {
            "text/plain": [
              "array([[5.5891252e-07, 5.7424927e-06, 9.2322829e-05, 1.3664733e-04,\n",
              "        7.6855431e-06, 9.9975711e-01],\n",
              "       [3.2086493e-05, 3.5986080e-04, 9.0676266e-01, 9.2210598e-02,\n",
              "        1.8004634e-04, 4.5476804e-04],\n",
              "       [1.7484494e-04, 1.3193162e-03, 4.3650296e-01, 5.6050175e-01,\n",
              "        4.1705219e-04, 1.0840649e-03],\n",
              "       ...,\n",
              "       [2.4776803e-06, 2.8371608e-06, 9.9966264e-01, 3.2708817e-04,\n",
              "        4.0284208e-06, 8.6442566e-07],\n",
              "       [1.1697433e-07, 5.0703777e-05, 8.4438070e-04, 4.9733175e-05,\n",
              "        3.5979967e-06, 9.9905151e-01],\n",
              "       [2.2494038e-04, 9.9803180e-01, 1.5215379e-04, 1.2938931e-03,\n",
              "        2.2200542e-05, 2.7499514e-04]], dtype=float32)"
            ]
          },
          "metadata": {},
          "execution_count": 31
        }
      ],
      "source": [
        "predicted = model.predict(x_train)\n",
        "predicted"
      ]
    },
    {
      "cell_type": "code",
      "execution_count": null,
      "metadata": {
        "id": "-7_Jk5tdLrTo"
      },
      "outputs": [],
      "source": [
        "predicted[0]"
      ]
    },
    {
      "cell_type": "code",
      "execution_count": null,
      "metadata": {
        "id": "7BFdND3ILvXM"
      },
      "outputs": [],
      "source": [
        "label = np.argmax(predicted[0])"
      ]
    },
    {
      "cell_type": "code",
      "execution_count": null,
      "metadata": {
        "id": "GO7g6oSVL4r0"
      },
      "outputs": [],
      "source": [
        "label"
      ]
    },
    {
      "cell_type": "code",
      "execution_count": null,
      "metadata": {
        "id": "lL1xji4gL6M8"
      },
      "outputs": [],
      "source": [
        "y_test[0]"
      ]
    },
    {
      "cell_type": "code",
      "execution_count": null,
      "metadata": {
        "id": "iCJ7uVonL8ZE"
      },
      "outputs": [],
      "source": [
        "y_predicted = [np.argmax(i) for i in predicted]"
      ]
    },
    {
      "cell_type": "code",
      "execution_count": null,
      "metadata": {
        "id": "uubngiTYNgDT"
      },
      "outputs": [],
      "source": [
        "y_test[:5]"
      ]
    },
    {
      "cell_type": "code",
      "execution_count": null,
      "metadata": {
        "id": "HGD9I6YYNi65"
      },
      "outputs": [],
      "source": [
        "y_predicted[:5]"
      ]
    },
    {
      "cell_type": "code",
      "execution_count": null,
      "metadata": {
        "id": "dzKVHLOrNmFY"
      },
      "outputs": [],
      "source": [
        "cm = tf.math.confusion_matrix(labels = y_test, predictions = y_predicted)"
      ]
    },
    {
      "cell_type": "code",
      "execution_count": null,
      "metadata": {
        "id": "Pg3HpQ7AN6Lf"
      },
      "outputs": [],
      "source": [
        "import matplotlib.pyplot as plt"
      ]
    },
    {
      "cell_type": "code",
      "execution_count": null,
      "metadata": {
        "id": "etoVo3ktNxPB"
      },
      "outputs": [],
      "source": [
        "import seaborn as sn\n",
        "plt.figure(figsize = (10, 7))\n",
        "sn.heatmap(cm, annot = True, fmt = 'd')\n",
        "plt.xlabel('Predicted')\n",
        "plt.ylabel('Truth')"
      ]
    },
    {
      "cell_type": "code",
      "execution_count": null,
      "metadata": {
        "id": "2ikHrAGjN4FQ"
      },
      "outputs": [],
      "source": [
        "from sklearn.metrics import classification_report"
      ]
    },
    {
      "cell_type": "code",
      "execution_count": null,
      "metadata": {
        "id": "isVIj4yPOl2h"
      },
      "outputs": [],
      "source": [
        "print(classification_report(y_test, y_predicted))"
      ]
    },
    {
      "cell_type": "code",
      "source": [
        "import scienceplots"
      ],
      "metadata": {
        "id": "FjjxsR2KC1Qd"
      },
      "execution_count": null,
      "outputs": []
    },
    {
      "cell_type": "code",
      "execution_count": null,
      "metadata": {
        "id": "xyV5NGS0O0uG"
      },
      "outputs": [],
      "source": [
        "import seaborn as sn\n",
        "from sklearn.metrics import confusion_matrix\n",
        "l = ['1', '2', '3', '4', '5', 'empty']\n",
        "\n",
        "\n",
        "cm = confusion_matrix(y_test,y_predicted)\n",
        "\n",
        "fig, axis = plt.subplots()\n",
        "sn.heatmap(cm, annot=True, fmt='d', ax=axis);  #annot=True to annotate cells, ftm='g' to disable scientific notation\n",
        "\n",
        "# labels, title and ticks\n",
        "axis.autoscale(tight=True)\n",
        "axis.set_xlabel('Predicted labels')\n",
        "axis.set_ylabel('True labels')\n",
        "axis.set_title('Confusion Matrix')\n",
        "axis.xaxis.set_ticklabels(l)\n",
        "axis.yaxis.set_ticklabels(l)\n",
        "\n",
        "plt.show()"
      ]
    },
    {
      "cell_type": "code",
      "source": [
        "with plt.style.context(['science', 'ieee', 'custom.mplstyle']):\n",
        "    fig, axis = plt.subplots()\n",
        "    sn.heatmap(cm, annot=True, fmt='d', ax=axis)\n",
        "    axis.autoscale(tight=True)\n",
        "    axis.set_xlabel('Predicted labels')\n",
        "    axis.set_ylabel('True labels')\n",
        "    axis.set_title('Confusion Matrix')\n",
        "    axis.xaxis.set_ticklabels(l)\n",
        "    axis.yaxis.set_ticklabels(l)\n",
        "    fig.savefig('con.jpeg', dpi=600, pad_inches=0.5)\n",
        "    plt.show()"
      ],
      "metadata": {
        "id": "AIJYUifAB718"
      },
      "execution_count": null,
      "outputs": []
    },
    {
      "cell_type": "code",
      "execution_count": null,
      "metadata": {
        "id": "LRLKk47rWcU5"
      },
      "outputs": [],
      "source": [
        "\n",
        "def plot_history(history):\n",
        "  fig, axis = plt.subplots(2)\n",
        "\n",
        "  #create accuracy subplot\n",
        "  axis[0].plot(history.history[\"accuracy\"], label = \"train_accuracy\")\n",
        "  axis[0].plot(history.history[\"val_accuracy\"], label = \"test_accuracy\")\n",
        "  axis[0].set_ylabel(\"Accuracy\")\n",
        "  axis[0].legend(loc = \"lower right\")\n",
        "  axis[0].set_title(\"accuracy eval\")\n",
        "\n",
        "  #create error subplot\n",
        "  axis[1].plot(history.history[\"loss\"], label = \"train_error\")\n",
        "  axis[1].plot(history.history[\"val_loss\"], label = \"test_error\")\n",
        "  axis[1].set_xlabel(\"Epoch\")\n",
        "  axis[1].set_ylabel(\"Loss\")\n",
        "  axis[1].legend(loc = \"upper right\")\n",
        "  axis[1].set_title(\"Error eval\")\n"
      ]
    },
    {
      "cell_type": "code",
      "execution_count": null,
      "metadata": {
        "id": "dNqf9DWRYttO"
      },
      "outputs": [],
      "source": [
        "plot_history(history)"
      ]
    },
    {
      "cell_type": "code",
      "source": [
        "with plt.style.context(['science', 'ieee', 'accloss.mplstyle']):\n",
        "    fig, axis = plt.subplots(2, 1)\n",
        "\n",
        "    #create accuracy subplot\n",
        "    axis[0].plot(history.history[\"accuracy\"], label = \"train_accuracy\", color='mediumblue', linewidth=0.7)\n",
        "    axis[0].plot(history.history[\"val_accuracy\"], label = \"test_accuracy\", color='orange', linewidth=0.7, linestyle='solid')\n",
        "    axis[0].set_ylabel(\"Accuracy\")\n",
        "    axis[0].set_xlabel(\"Epochs\")\n",
        "    axis[0].legend(loc = \"lower right\")\n",
        "    axis[0].set_title(\"(a)\")\n",
        "\n",
        "    #create error subplot\n",
        "    axis[1].plot(history.history[\"loss\"], label = \"train_error\", color='mediumblue', linewidth=0.7)\n",
        "    axis[1].plot(history.history[\"val_loss\"], label = \"test_error\", color='orange', linewidth=0.7, linestyle='solid')\n",
        "    axis[1].set_xlabel(\"Epochs\")\n",
        "    axis[1].set_ylabel(\"Loss\")\n",
        "    axis[1].legend(loc = \"upper right\")\n",
        "    axis[1].set_title(\"(b)\")\n",
        "\n",
        "    plt.tight_layout()\n",
        "\n",
        "    fig.savefig('accloss.png', dpi=600, pad_inches=0.3)\n",
        "\n",
        "    plt.show()"
      ],
      "metadata": {
        "id": "ZeliS2Zc7pEH"
      },
      "execution_count": null,
      "outputs": []
    },
    {
      "cell_type": "code",
      "source": [
        "import numpy as np\n",
        "\n",
        "# Assuming you have a confusion matrix in the form of a NumPy array\n",
        "confusion_matrix = cm\n",
        "\n",
        "# Calculate precision, recall, F1 score, and accuracy for each class\n",
        "precision = np.diag(confusion_matrix) / np.sum(confusion_matrix, axis=0)\n",
        "recall = np.diag(confusion_matrix) / np.sum(confusion_matrix, axis=1)\n",
        "f1_score = 2 * (precision * recall) / (precision + recall)\n",
        "accuracy = np.sum(np.diag(confusion_matrix)) / np.sum(confusion_matrix)\n",
        "\n",
        "# Calculate overall precision, recall, F1 score, and accuracy\n",
        "overall_precision = np.mean(precision)\n",
        "overall_recall = np.mean(recall)\n",
        "overall_f1_score = np.mean(f1_score)\n",
        "overall_accuracy = accuracy\n",
        "\n",
        "print(\"Precision:\", precision)\n",
        "print(\"Recall:\", recall)\n",
        "print(\"F1 Score:\", f1_score)\n",
        "print(\"Accuracy:\", accuracy)\n",
        "\n",
        "print(\"\\nOverall Accuracy:\", overall_accuracy)\n",
        "print(\"Overall Precision:\", overall_precision)\n",
        "print(\"Overall Recall:\", overall_recall)\n",
        "print(\"Overall F1 Score:\", overall_f1_score)"
      ],
      "metadata": {
        "id": "hNw9GEx06_jR"
      },
      "execution_count": null,
      "outputs": []
    },
    {
      "cell_type": "code",
      "source": [
        "model"
      ],
      "metadata": {
        "id": "CJGFaNjyMImf"
      },
      "execution_count": null,
      "outputs": []
    },
    {
      "cell_type": "code",
      "source": [
        "with plt.style.context(['science', 'ieee']):\n",
        "    keras.utils.plot_model(model, show_shapes=True, show_layer_names=True, to_file='architecture.png', dpi=600, show_layer_activations=True) #to_file='test.png'\n",
        "    # plt.savefig('test.png', dpi=300)\n",
        "    plt.show()"
      ],
      "metadata": {
        "id": "ujUNftVIMMGf"
      },
      "execution_count": null,
      "outputs": []
    }
  ]
}